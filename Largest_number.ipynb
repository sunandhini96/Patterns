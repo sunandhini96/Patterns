{
  "nbformat": 4,
  "nbformat_minor": 0,
  "metadata": {
    "colab": {
      "provenance": [],
      "authorship_tag": "ABX9TyMBu49H9msKBlzULDd2UkAI",
      "include_colab_link": true
    },
    "kernelspec": {
      "name": "python3",
      "display_name": "Python 3"
    },
    "language_info": {
      "name": "python"
    }
  },
  "cells": [
    {
      "cell_type": "markdown",
      "metadata": {
        "id": "view-in-github",
        "colab_type": "text"
      },
      "source": [
        "<a href=\"https://colab.research.google.com/github/sunandhini96/Programming/blob/main/Largest_number.ipynb\" target=\"_parent\"><img src=\"https://colab.research.google.com/assets/colab-badge.svg\" alt=\"Open In Colab\"/></a>"
      ]
    },
    {
      "cell_type": "markdown",
      "source": [
        "## Problem statement\n",
        "Given a list of non-negative integers nums, arrange them such that they form the largest number and return it.\n",
        "\n",
        "Since the result may be very large, so you need to return a string instead of an integer.\n",
        "\n",
        "\n",
        "\n",
        "Example 1:\n",
        "\n",
        "Input: nums = [10,2]\n",
        "Output: \"210\"\n",
        "Example 2:\n",
        "\n",
        "Input: nums = [3,30,34,5,9]\n",
        "Output: \"9534330\""
      ],
      "metadata": {
        "id": "ZXrkSatFQ6bE"
      }
    },
    {
      "cell_type": "code",
      "execution_count": 13,
      "metadata": {
        "colab": {
          "base_uri": "https://localhost:8080/"
        },
        "id": "QrOlb-XeQ0tG",
        "outputId": "a75976cb-d7b9-4472-e9a9-822d3a1cc583"
      },
      "outputs": [
        {
          "output_type": "stream",
          "name": "stdout",
          "text": [
            "1\n"
          ]
        }
      ],
      "source": [
        "from functools import cmp_to_key\n",
        "nums=[10,2]\n",
        "for i,n in enumerate(nums):\n",
        "  nums[i] = str(n)\n",
        "def compare(n1,n2):\n",
        "  if n1 + n2 > n2 + n1:\n",
        "    return -1\n",
        "  else:\n",
        "    return 1\n",
        "\n",
        "nums=sorted(nums,key=cmp_to_key(compare))\n",
        "print(''.join(nums))\n",
        "# #sorted()"
      ]
    },
    {
      "cell_type": "code",
      "source": [
        "class Solution(object):\n",
        "    def compare(self,n1,n2):\n",
        "        return str(n1)+str(n2)>str(n2)+str(n1)\n",
        "    def largestNumber(self, nums):\n",
        "        \"\"\"\n",
        "        :type nums: List[int]\n",
        "        :rtype: str\n",
        "        \"\"\"\n",
        "        if sum(nums)==0:\n",
        "            return \"0\"\n",
        "        n=len(nums)\n",
        "        for i in range(n):\n",
        "            for j in range(n-i-1):\n",
        "                if not self.compare(nums[j],nums[j+1]):\n",
        "                    nums[j],nums[j+1]=nums[j+1],nums[j]\n",
        "        res=\"\"\n",
        "        for i in range(n):\n",
        "            res+=str(nums[i])\n",
        "        return res"
      ],
      "metadata": {
        "id": "6uUrosinqjM8"
      },
      "execution_count": 14,
      "outputs": []
    }
  ]
}