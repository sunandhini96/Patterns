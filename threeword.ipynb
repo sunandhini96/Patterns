{
  "nbformat": 4,
  "nbformat_minor": 0,
  "metadata": {
    "colab": {
      "provenance": [],
      "authorship_tag": "ABX9TyMW5Dm0GckGXTJQRaC/Dua4",
      "include_colab_link": true
    },
    "kernelspec": {
      "name": "python3",
      "display_name": "Python 3"
    },
    "language_info": {
      "name": "python"
    }
  },
  "cells": [
    {
      "cell_type": "markdown",
      "metadata": {
        "id": "view-in-github",
        "colab_type": "text"
      },
      "source": [
        "<a href=\"https://colab.research.google.com/github/sunandhini96/Programming/blob/main/threeword.ipynb\" target=\"_parent\"><img src=\"https://colab.research.google.com/assets/colab-badge.svg\" alt=\"Open In Colab\"/></a>"
      ]
    },
    {
      "cell_type": "markdown",
      "source": [
        "## Problem Statement:\n",
        "The program will recieve 3 English words inputs from STDIN\n",
        "\n",
        "These three words will be read one at a time, in three separate line\n",
        "The first word should be changed like all vowels should be replaced by *\n",
        "The second word should be changed like all consonants should be replaced by @\n",
        "The third word should be changed like all char should be converted to upper case\n",
        "Then concatenate the three words and print them\n",
        "\n",
        "```\n",
        "Case 1:\n",
        "Input\n",
        "\n",
        "how\n",
        "are\n",
        "you\n",
        "Expected Output : h*wa@eYOU\n",
        "\n",
        "\n",
        "```\n",
        "\n",
        "```\n",
        "Case 2:\n",
        "how\n",
        "999\n",
        "you\n",
        "Expected Output : h*w999YOU\n",
        "```\n"
      ],
      "metadata": {
        "id": "hKy8W9KmN4dR"
      }
    },
    {
      "cell_type": "markdown",
      "source": [
        "## Method 1:"
      ],
      "metadata": {
        "id": "c4THN876O50N"
      }
    },
    {
      "cell_type": "code",
      "execution_count": 32,
      "metadata": {
        "colab": {
          "base_uri": "https://localhost:8080/"
        },
        "id": "s2vKG2uaAW9y",
        "outputId": "f0226911-0ca1-4654-b9d7-00cfa7a3ac79"
      },
      "outputs": [
        {
          "output_type": "stream",
          "name": "stdout",
          "text": [
            "how\n",
            "999\n",
            "you\n",
            "h*w999YOU\n"
          ]
        }
      ],
      "source": [
        "words = []\n",
        "for i in range(3):\n",
        "  words.append(input())\n",
        "word1,word2,word3 = words\n",
        "\n",
        "vowel = \"aeiouAEIOU\"\n",
        "for w in word1:\n",
        "  if w in vowel:\n",
        "    word1=word1.replace(w,\"*\")\n",
        "for w in word2:\n",
        "  if w not in vowel and not w.isdigit():\n",
        "    word2=word2.replace(w,\"@\")\n",
        "word3 = word3.upper()\n",
        "print(word1+word2+word3)\n",
        "\n",
        "\n",
        "\n",
        "\n",
        "\n",
        "\n",
        "\n",
        "\n",
        "\n",
        "\n",
        "\n",
        "\n",
        "\n",
        "\n"
      ]
    }
  ]
}