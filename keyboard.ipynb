{
  "nbformat": 4,
  "nbformat_minor": 0,
  "metadata": {
    "colab": {
      "provenance": [],
      "authorship_tag": "ABX9TyNTVkFl5XPJ7OMO4LGA8OtY",
      "include_colab_link": true
    },
    "kernelspec": {
      "name": "python3",
      "display_name": "Python 3"
    },
    "language_info": {
      "name": "python"
    }
  },
  "cells": [
    {
      "cell_type": "markdown",
      "metadata": {
        "id": "view-in-github",
        "colab_type": "text"
      },
      "source": [
        "<a href=\"https://colab.research.google.com/github/sunandhini96/Programming/blob/main/keyboard.ipynb\" target=\"_parent\"><img src=\"https://colab.research.google.com/assets/colab-badge.svg\" alt=\"Open In Colab\"/></a>"
      ]
    },
    {
      "cell_type": "code",
      "execution_count": 27,
      "metadata": {
        "id": "BaMjCC3d8B1j"
      },
      "outputs": [],
      "source": [
        "\n",
        "def findWords(words):\n",
        "    \"\"\"\n",
        "    :type words: List[str]\n",
        "    :rtype: List[str]\n",
        "    \"\"\"\n",
        "    first_row = \"qwertyuiop\"\n",
        "    second_row = \"asdfghjkl\"\n",
        "    third_row = \"zxcvbnm\"\n",
        "\n",
        "    res=[]\n",
        "    #dic = {1 : first_row; 2 : second_row; 3: third_row}\n",
        "    for word in words:\n",
        "        count1=0\n",
        "        count2=0\n",
        "        count3=0\n",
        "        print(word,count1,count2,count3)\n",
        "        word = word.lower()\n",
        "        for i in word:\n",
        "            if i in first_row:\n",
        "                count1+=1\n",
        "                print(i,count1)\n",
        "            elif i in second_row:\n",
        "                count2+=1\n",
        "                print(i,count2)\n",
        "            elif i in third_row:\n",
        "                count3+=1\n",
        "                print(i,count3)\n",
        "            else:\n",
        "                print(i)\n",
        "        print(count1,count2,count3)\n",
        "        if count1==len(word) or count2==len(word) or count3==len(word):\n",
        "            res.append(word)\n",
        "    return res\n",
        ""
      ]
    },
    {
      "cell_type": "code",
      "source": [
        "findWords([\"Hello\",\"Alaska\",\"Dad\",\"Peace\"])"
      ],
      "metadata": {
        "colab": {
          "base_uri": "https://localhost:8080/"
        },
        "id": "YAGnU3sk8Qf-",
        "outputId": "f158c1b5-d153-4c23-cbce-4db62302f72d"
      },
      "execution_count": 28,
      "outputs": [
        {
          "output_type": "stream",
          "name": "stdout",
          "text": [
            "Hello 0 0 0\n",
            "h 1\n",
            "e 1\n",
            "l 2\n",
            "l 3\n",
            "o 2\n",
            "2 3 0\n",
            "Alaska 0 0 0\n",
            "a 1\n",
            "l 2\n",
            "a 3\n",
            "s 4\n",
            "k 5\n",
            "a 6\n",
            "0 6 0\n",
            "Dad 0 0 0\n",
            "d 1\n",
            "a 2\n",
            "d 3\n",
            "0 3 0\n",
            "Peace 0 0 0\n",
            "p 1\n",
            "e 2\n",
            "a 1\n",
            "c 1\n",
            "e 3\n",
            "3 1 1\n"
          ]
        },
        {
          "output_type": "execute_result",
          "data": {
            "text/plain": [
              "['alaska', 'dad']"
            ]
          },
          "metadata": {},
          "execution_count": 28
        }
      ]
    },
    {
      "cell_type": "code",
      "source": [
        "w=[\"Hello\"]\n",
        "for i in w:\n",
        "  print(i)"
      ],
      "metadata": {
        "colab": {
          "base_uri": "https://localhost:8080/"
        },
        "id": "jl5QTb_-9z4-",
        "outputId": "3e157267-c849-42fe-b2f1-35e83c14b123"
      },
      "execution_count": 18,
      "outputs": [
        {
          "output_type": "stream",
          "name": "stdout",
          "text": [
            "Hello\n"
          ]
        }
      ]
    },
    {
      "cell_type": "code",
      "source": [],
      "metadata": {
        "id": "fihuxelgC2LW"
      },
      "execution_count": null,
      "outputs": []
    },
    {
      "cell_type": "code",
      "source": [
        "\n",
        "def findWords(words):\n",
        "    f,s,t,r = {'q','w','e','r','t','y','u','i','o','p'},{'a','s','d','f','g','h','j','k','l'},{'z','x','c','v','b','n','m'},[]\n",
        "    for i in words:\n",
        "        letters = set(i.lower())\n",
        "        print(letters&f)\n",
        "        #if letters in [letters&f,letters&s,letters&t]:r.append(i)\n",
        "    return r"
      ],
      "metadata": {
        "id": "03kZ_VouGe0p"
      },
      "execution_count": 29,
      "outputs": []
    },
    {
      "cell_type": "code",
      "source": [
        "findWords([\"Hello\",\"Alaska\",\"Dad\",\"Peace\"])"
      ],
      "metadata": {
        "colab": {
          "base_uri": "https://localhost:8080/"
        },
        "id": "Ab_ZrMDPGydp",
        "outputId": "e2bb4e29-8e5b-4db9-9899-fe0ef6055edc"
      },
      "execution_count": 30,
      "outputs": [
        {
          "output_type": "stream",
          "name": "stdout",
          "text": [
            "{'o', 'e'}\n",
            "set()\n",
            "set()\n",
            "{'e', 'p'}\n"
          ]
        },
        {
          "output_type": "execute_result",
          "data": {
            "text/plain": [
              "[]"
            ]
          },
          "metadata": {},
          "execution_count": 30
        }
      ]
    }
  ]
}