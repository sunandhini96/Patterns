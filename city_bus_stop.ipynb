{
  "nbformat": 4,
  "nbformat_minor": 0,
  "metadata": {
    "colab": {
      "provenance": [],
      "authorship_tag": "ABX9TyM6thvzXz1Rv8dls1PA66Qv",
      "include_colab_link": true
    },
    "kernelspec": {
      "name": "python3",
      "display_name": "Python 3"
    },
    "language_info": {
      "name": "python"
    }
  },
  "cells": [
    {
      "cell_type": "markdown",
      "metadata": {
        "id": "view-in-github",
        "colab_type": "text"
      },
      "source": [
        "<a href=\"https://colab.research.google.com/github/sunandhini96/Programming/blob/main/city_bus_stop.ipynb\" target=\"_parent\"><img src=\"https://colab.research.google.com/assets/colab-badge.svg\" alt=\"Open In Colab\"/></a>"
      ]
    },
    {
      "cell_type": "markdown",
      "source": [
        "## Problem Statement:\n",
        "A City Bus is a Ring Route Bus which runs in circular fashion.That is, Bus once starts at the Source Bus Stop, halts at each Bus Stop in its Route and at the end it reaches the Source Bus Stop again.\n",
        "If there are n  number of Stops and if the bus starts at Bus Stop 1, then after nth Bus Stop, the next stop in the Route will be Bus Stop number 1 always.\n",
        "If there are n stops, there will be n paths.One path connects two stops.\n",
        "\n",
        "Distances (in meters) for all paths in Ring Route is given in array Path[] as given below:\n",
        "\n",
        "Path = [800, 600, 750, 900, 1400, 1200, 1100, 1500]\n",
        "\n",
        "Fare is determined based on the distance covered from source to destination stop as  Distance between Input Source and Destination Stops can be measured by looking at values in array Path[] and fare can be calculated as per following criteria:\n",
        "\n",
        "If d =1000 metres, then fare=5 INR\n",
        "(When calculating fare for others, the calculated fare containing any fraction value should be ceiled. For example, for distance 900n when fare initially calculated is 4.5 which must be ceiled to 5)\n",
        "Path is circular in function. Value at each index indicates distance till current stop from the previous one. And each index position can be mapped with values at same index in BusStops [] array, which is a string array holding abbreviation of names for all stops as-\n",
        "\n",
        "“THANERAILWAYSTN” = ”TH”, “GAONDEVI” = “GA”, “ICEFACTROY” = “IC”, “HARINIWASCIRCLE” = “HA”, “TEENHATHNAKA” = “TE”, “LUISWADI” = “LU”, “NITINCOMPANYJUNCTION” = “NI”, “CADBURRYJUNCTION” = “CA”\n",
        "\n",
        "Given, n=8, where n is number of total BusStops.\n",
        "\n",
        "BusStops = [ “TH”, ”GA”, ”IC”, ”HA”, ”TE”, ”LU”, ”NI”,”CA” ]\n",
        "\n",
        "Write a code with function getFare(String Source, String Destination) which take Input as source and destination stops(in the format containing first two characters of the Name of the Bus Stop) and calculate and return travel fare.\n",
        "\n",
        "```\n",
        "Example 1:\n",
        "Input Values\n",
        "ca\n",
        "Ca\n",
        "\n",
        "Output Values\n",
        "INVALID OUTPUT\n",
        "\n",
        "Example 2:\n",
        "Input Values\n",
        "NI\n",
        "HA\n",
        "Output Values\n",
        "23.0 INR\n",
        "\n",
        "\n",
        "\n",
        "```"
      ],
      "metadata": {
        "id": "hKy8W9KmN4dR"
      }
    },
    {
      "cell_type": "markdown",
      "source": [
        "## Method 1:"
      ],
      "metadata": {
        "id": "c4THN876O50N"
      }
    },
    {
      "cell_type": "code",
      "execution_count": 1,
      "metadata": {
        "colab": {
          "base_uri": "https://localhost:8080/"
        },
        "id": "s2vKG2uaAW9y",
        "outputId": "9339a1ab-8bca-4b1c-fd08-e029ef233301"
      },
      "outputs": [
        {
          "output_type": "stream",
          "name": "stdout",
          "text": [
            "TH\n",
            "IC\n",
            "7.0\n"
          ]
        }
      ],
      "source": [
        "\n",
        "import math\n",
        "def getFare(source,destination):\n",
        "    route=[ [ \"TH\", \"GA\", \"IC\", \"HA\", \"TE\", \"LU\", \"NI\", \"CA\"],\n",
        "    [800,600,750,900,1400,1200,1100,1500]\n",
        "        ]\n",
        "    fare = 0.0\n",
        "    if not (source in route[0] and destination in route[0]):\n",
        "        print(\"Invalid Input\")\n",
        "        exit()\n",
        "    if route[0].index(source) < route[0].index(destination):\n",
        "        for i in range(route[0].index(source)+1,route[0].index(destination)+1):\n",
        "            fare+=route[1][i]\n",
        "    elif route[0].index(destination) < route[0].index(source):\n",
        "        for i in range(route[0].index(source)+1,len(route[0])):\n",
        "            fare+=route[1][i]\n",
        "        for i in range(0,route[0].index(destination)+1):\n",
        "            fare+=route[1][i]\n",
        "    return float(math.ceil(fare*0.005))\n",
        "\n",
        "source = input()\n",
        "destination = input()\n",
        "fare = getFare(source,destination)\n",
        "if fare == 0:\n",
        "    print(\"Invalid Input\")\n",
        "else:\n",
        "    print(fare)\n",
        "\n",
        "\n",
        "\n",
        "\n",
        "\n",
        "\n",
        "\n",
        "\n",
        "\n",
        "\n",
        "\n",
        "\n",
        "\n",
        "\n",
        "\n"
      ]
    },
    {
      "cell_type": "markdown",
      "source": [
        "## Method 2:"
      ],
      "metadata": {
        "id": "F252KVdUQec7"
      }
    },
    {
      "cell_type": "code",
      "source": [
        "import math\n",
        "start=input(\"Enter the source: \")\n",
        "end=input(\"Enter the destination: \")\n",
        "def get_fair(source,destination):\n",
        "    fair = 0.0\n",
        "    route=[ [ \"TH\", \"GA\", \"IC\", \"HA\", \"TE\", \"LU\", \"NI\", \"CA\"],\n",
        "       [800,600,750,900,1400,1200,1100,1500]\n",
        "        ]\n",
        "\n",
        "    if source not in route[0] or destination not in route[0]:\n",
        "      return 0\n",
        "    source_index = route[0].index(source)\n",
        "    destination_index = route[0].index(destination)\n",
        "    if source_index <destination_index:\n",
        "      fair += sum(route[1][source_index+1:destination_index+1])\n",
        "    elif source_index > destination_index:\n",
        "      fair = sum(route[1][source_index+1:]) + sum(route[1][:destination_index+1])\n",
        "    return float(math.ceil(fair*0.005))\n",
        "\n",
        "\n",
        "\n",
        "\n",
        "fair = get_fair(start,end)\n",
        "if fair == 0:\n",
        "  print(\"Invalid Output\")\n",
        "else:\n",
        "  print(str(fair)+\" INR\")\n",
        "\n"
      ],
      "metadata": {
        "colab": {
          "base_uri": "https://localhost:8080/"
        },
        "id": "aX2xHwETNZ51",
        "outputId": "7d60dff6-65f6-40d0-dc35-705bab49f39b"
      },
      "execution_count": 9,
      "outputs": [
        {
          "output_type": "stream",
          "name": "stdout",
          "text": [
            "Enter the source: NI\n",
            "Enter the destination: HA\n",
            "23.0 INR\n"
          ]
        }
      ]
    }
  ]
}