{
  "nbformat": 4,
  "nbformat_minor": 0,
  "metadata": {
    "colab": {
      "provenance": [],
      "authorship_tag": "ABX9TyNh2SSfSo3DeFoeDf3jXe12",
      "include_colab_link": true
    },
    "kernelspec": {
      "name": "python3",
      "display_name": "Python 3"
    },
    "language_info": {
      "name": "python"
    }
  },
  "cells": [
    {
      "cell_type": "markdown",
      "metadata": {
        "id": "view-in-github",
        "colab_type": "text"
      },
      "source": [
        "<a href=\"https://colab.research.google.com/github/sunandhini96/Programming/blob/main/word_is_key.ipynb\" target=\"_parent\"><img src=\"https://colab.research.google.com/assets/colab-badge.svg\" alt=\"Open In Colab\"/></a>"
      ]
    },
    {
      "cell_type": "markdown",
      "source": [
        "## Problem Statement:\n",
        "(Word is Key)\n",
        "\n",
        "One programming language has the following keywords that cannot be used as identifiers:\n",
        "\n",
        "break, case, continue, default, defer, else, for, func, goto, if, map, range, return, struct, type, var\n",
        "\n",
        "Write a program to find if the given word is a keyword or not\n",
        "\n",
        "```\n",
        "Case 1\n",
        "Input – defer\n",
        "Expected Output – defer is a keyword\n",
        "```\n",
        "\n",
        "```\n",
        "Case 2\n",
        "Input – While\n",
        "Expected Output – while is not a keyword\n",
        "```\n"
      ],
      "metadata": {
        "id": "hKy8W9KmN4dR"
      }
    },
    {
      "cell_type": "markdown",
      "source": [
        "## Method 1:"
      ],
      "metadata": {
        "id": "c4THN876O50N"
      }
    },
    {
      "cell_type": "code",
      "execution_count": 13,
      "metadata": {
        "colab": {
          "base_uri": "https://localhost:8080/"
        },
        "id": "s2vKG2uaAW9y",
        "outputId": "38e5b3a3-d377-4d8c-c2a5-51bc9be754e9"
      },
      "outputs": [
        {
          "output_type": "stream",
          "name": "stdout",
          "text": [
            "enter the word: Break\n",
            "break is a keyword\n"
          ]
        }
      ],
      "source": [
        "\n",
        "list_of_keys = [\"break\", \"case\", \"continue\", \"default\", \"defer\", \"else\", \"for\", \"func\", \"goto\", \"if\", \"map\", \"range\", \"return\", \"struct\", \"type\", \"var\"]\n",
        "input_word = input(\"enter the word: \")\n",
        "input_word = input_word.lower()\n",
        "if input_word in list_of_keys:\n",
        "  print(f\"{input_word} is a keyword\")\n",
        "else:\n",
        "  print(f\"{input_word} is not a keyword\")\n",
        "\n",
        "\n",
        "\n",
        "\n",
        "\n",
        "\n",
        "\n",
        "\n",
        "\n"
      ]
    }
  ]
}