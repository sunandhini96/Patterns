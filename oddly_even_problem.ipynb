{
  "nbformat": 4,
  "nbformat_minor": 0,
  "metadata": {
    "colab": {
      "provenance": [],
      "authorship_tag": "ABX9TyN+C6vamL0Dp91xou5rfkii",
      "include_colab_link": true
    },
    "kernelspec": {
      "name": "python3",
      "display_name": "Python 3"
    },
    "language_info": {
      "name": "python"
    }
  },
  "cells": [
    {
      "cell_type": "markdown",
      "metadata": {
        "id": "view-in-github",
        "colab_type": "text"
      },
      "source": [
        "<a href=\"https://colab.research.google.com/github/sunandhini96/Programming/blob/main/oddly_even_problem.ipynb\" target=\"_parent\"><img src=\"https://colab.research.google.com/assets/colab-badge.svg\" alt=\"Open In Colab\"/></a>"
      ]
    },
    {
      "cell_type": "markdown",
      "source": [
        "## Problem Statement:\n",
        "Oddly Even Problem Statement\n",
        "\n",
        "Given a maximum of 100 digit numbers as input, find the difference between the sum of odd and even position digits\n",
        "\n",
        "```\n",
        "Case 1\n",
        "Input: 4567\n",
        "Expected Output: 2\n",
        "Explanation : Odd positions are 4 and 6 as they are pos: 1 and pos: 3, both have sum 10. Similarly, 5 and 7 are at even positions pos: 2 and pos: 4 with sum 12. Thus, difference is 12 – 10 = 2\n",
        "```\n",
        "\n",
        "```\n",
        "Case 2\n",
        "Input: 5476\n",
        "Expected Output: 2\n",
        "```\n",
        "\n",
        "```\n",
        "Case 3\n",
        "Input: 9834698765123\n",
        "Expected Output: 1\n",
        "```"
      ],
      "metadata": {
        "id": "hKy8W9KmN4dR"
      }
    },
    {
      "cell_type": "markdown",
      "source": [
        "## Method 1:"
      ],
      "metadata": {
        "id": "c4THN876O50N"
      }
    },
    {
      "cell_type": "code",
      "execution_count": 7,
      "metadata": {
        "colab": {
          "base_uri": "https://localhost:8080/"
        },
        "id": "s2vKG2uaAW9y",
        "outputId": "2e8e917b-2d55-42aa-ca5e-f830dc9dd9d3"
      },
      "outputs": [
        {
          "output_type": "stream",
          "name": "stdout",
          "text": [
            "4567\n",
            "7\n",
            "6\n",
            "5\n",
            "4\n",
            "final_result:  2\n"
          ]
        }
      ],
      "source": [
        "n = int(input())\n",
        "odd_result, even_result = 0,0\n",
        "while n > 0:\n",
        "   r_o = n % 10\n",
        "   n = n // 10\n",
        "   print(r_o)\n",
        "   odd_result += r_o\n",
        "   if n > 0:\n",
        "    r_e = n % 10\n",
        "    n = n // 10\n",
        "    print(r_e)\n",
        "    even_result += r_e\n",
        "print(\"final_result: \", odd_result - even_result)\n",
        "\n",
        "\n",
        "\n",
        "\n",
        "\n",
        "\n",
        "\n",
        "\n"
      ]
    },
    {
      "cell_type": "markdown",
      "source": [
        "## Method 2:"
      ],
      "metadata": {
        "id": "JwCctUMsO8YZ"
      }
    },
    {
      "cell_type": "code",
      "source": [
        "n = int(input())\n",
        "odd_result, even_result = 0,0\n",
        "pos = 1\n",
        "while n > 0:\n",
        "   r = n % 10\n",
        "   if pos % 2 == 0:\n",
        "    even_result += r\n",
        "   else:\n",
        "    odd_result += r\n",
        "   n = n // 10\n",
        "   pos += 1\n",
        "print(\"final_result: \", odd_result - even_result)"
      ],
      "metadata": {
        "colab": {
          "base_uri": "https://localhost:8080/"
        },
        "id": "6a2smzGHO5C6",
        "outputId": "c6a5bfc3-a185-487e-d2d3-f8ef516441dd"
      },
      "execution_count": 10,
      "outputs": [
        {
          "output_type": "stream",
          "name": "stdout",
          "text": [
            "9834698765123\n",
            "final_result:  1\n"
          ]
        }
      ]
    }
  ]
}