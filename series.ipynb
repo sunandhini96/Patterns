{
  "nbformat": 4,
  "nbformat_minor": 0,
  "metadata": {
    "colab": {
      "provenance": [],
      "authorship_tag": "ABX9TyP+acXzkGG8x7jqaqKCPEJ4",
      "include_colab_link": true
    },
    "kernelspec": {
      "name": "python3",
      "display_name": "Python 3"
    },
    "language_info": {
      "name": "python"
    }
  },
  "cells": [
    {
      "cell_type": "markdown",
      "metadata": {
        "id": "view-in-github",
        "colab_type": "text"
      },
      "source": [
        "<a href=\"https://colab.research.google.com/github/sunandhini96/Programming/blob/main/series.ipynb\" target=\"_parent\"><img src=\"https://colab.research.google.com/assets/colab-badge.svg\" alt=\"Open In Colab\"/></a>"
      ]
    },
    {
      "cell_type": "markdown",
      "source": [
        "## Problem Statement:\n",
        "Question. Find the nth term of the series.\n",
        "\n",
        "1, 1, 2, 3, 4, 9, 8, 27, 16, 81, 32, 243,64, 729, 128, 2187 ….\n",
        "\n",
        "This series is a mixture of 2 series – all the odd terms in this series form a geometric series and all the even terms form yet another geometric series. Write a program to find the Nth term in the series.\n",
        "\n",
        "The value N in a positive integer that should be read from STDIN.\n",
        "The Nth term that is calculated by the program should be written to STDOUT.\n",
        "Other than value of n th term,no other character / string or message should be written to STDOUT.\n",
        "For example , if N=16, the 16th term in the series is 2187, so only value 2187 should be printed to STDOUT.\n",
        "You can assume that N will not exceed 30.\n",
        "\n",
        "```\n",
        "Case 1\n",
        "Input- 16\n",
        "Expected Output – 2187\n",
        "```\n",
        "\n",
        "```\n",
        "Case 2\n",
        "Input- 13\n",
        "Expected Output – 64\n",
        "```\n"
      ],
      "metadata": {
        "id": "hKy8W9KmN4dR"
      }
    },
    {
      "cell_type": "markdown",
      "source": [
        "## Method 1:"
      ],
      "metadata": {
        "id": "c4THN876O50N"
      }
    },
    {
      "cell_type": "code",
      "execution_count": 17,
      "metadata": {
        "colab": {
          "base_uri": "https://localhost:8080/"
        },
        "id": "s2vKG2uaAW9y",
        "outputId": "638c6b67-7c51-4e7a-a3b8-ce4d22451566"
      },
      "outputs": [
        {
          "output_type": "stream",
          "name": "stdout",
          "text": [
            "13\n",
            "64\n"
          ]
        }
      ],
      "source": [
        "n = int(input( ))\n",
        "pos = 1\n",
        "j,k = 0,0\n",
        "for i in range(n):\n",
        "  if pos % 2 == 0:\n",
        "    r = 3 ** j\n",
        "    j += 1\n",
        "  else:\n",
        "    r = 2 ** k\n",
        "    k += 1\n",
        "  pos += 1\n",
        "print(r)\n",
        "\n",
        "\n",
        "\n",
        "\n",
        "\n",
        "\n",
        "\n",
        "\n",
        "\n",
        "\n",
        "\n"
      ]
    },
    {
      "cell_type": "markdown",
      "source": [
        "## Method 2:\n"
      ],
      "metadata": {
        "id": "azKKi3yyXsMm"
      }
    },
    {
      "cell_type": "code",
      "source": [
        "n = int(input())\n",
        "if n % 2 == 0:\n",
        "   n = n // 2\n",
        "   print(3 ** (n -1))\n",
        "else:\n",
        "  n = n // 2\n",
        "  print(2 ** (n))"
      ],
      "metadata": {
        "colab": {
          "base_uri": "https://localhost:8080/"
        },
        "id": "9DANwT_DXtyE",
        "outputId": "1276bf39-db45-464f-fba0-ebc2db469123"
      },
      "execution_count": 19,
      "outputs": [
        {
          "output_type": "stream",
          "name": "stdout",
          "text": [
            "16\n",
            "2187\n"
          ]
        }
      ]
    }
  ]
}