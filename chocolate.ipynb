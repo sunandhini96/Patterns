{
  "nbformat": 4,
  "nbformat_minor": 0,
  "metadata": {
    "colab": {
      "provenance": [],
      "authorship_tag": "ABX9TyNZiE+paNhHQcXlic9FPXxO",
      "include_colab_link": true
    },
    "kernelspec": {
      "name": "python3",
      "display_name": "Python 3"
    },
    "language_info": {
      "name": "python"
    }
  },
  "cells": [
    {
      "cell_type": "markdown",
      "metadata": {
        "id": "view-in-github",
        "colab_type": "text"
      },
      "source": [
        "<a href=\"https://colab.research.google.com/github/sunandhini96/Programming/blob/main/chocolate.ipynb\" target=\"_parent\"><img src=\"https://colab.research.google.com/assets/colab-badge.svg\" alt=\"Open In Colab\"/></a>"
      ]
    },
    {
      "cell_type": "markdown",
      "source": [
        "## Problem Statement:\n",
        "A chocolate factory is packing chocolates into the packets. The chocolate packets here represent an array arrt of N number of integer values. The task is to find the empty packets(0) of chocolate and push it to the end of the conveyor belt(array)\n",
        "\n",
        "For Example:\n",
        "\n",
        "N=7 and arr = [4,5,0,1.9,0,5,0].\n",
        "\n",
        "There are 3 empty packets in the given set. These 3 empty packets represented as O should be pushed towards the end of the array\n",
        "\n",
        "```\n",
        "Example 1:\n",
        "\n",
        "Input:\n",
        "\n",
        "7  – Value of N\n",
        "\n",
        "[4,5,0,1,0,0,5] – Element of arr[O] to arr[N-1],While input each element is separated by newline\n",
        "\n",
        "Output:\n",
        "\n",
        "4 5 1 9 5 0 0\n",
        "\n",
        "Example 2:\n",
        "\n",
        "Input:\n",
        "\n",
        "6\n",
        "\n",
        "— Value of N.\n",
        "\n",
        "[6,0,1,8,0,2] – Element of arr[0] to arr[N-1], While input each element is separated by newline\n",
        "\n",
        "Output:\n",
        "\n",
        "6 1 8 2 0 0\n",
        "\n",
        "```\n"
      ],
      "metadata": {
        "id": "hKy8W9KmN4dR"
      }
    },
    {
      "cell_type": "markdown",
      "source": [
        "## Method 1:"
      ],
      "metadata": {
        "id": "c4THN876O50N"
      }
    },
    {
      "cell_type": "code",
      "execution_count": 11,
      "metadata": {
        "colab": {
          "base_uri": "https://localhost:8080/"
        },
        "id": "s2vKG2uaAW9y",
        "outputId": "dc69d561-16f2-4a83-ae27-e12ad50e25e6"
      },
      "outputs": [
        {
          "output_type": "stream",
          "name": "stdout",
          "text": [
            "5\n",
            "2\n",
            "0\n",
            "0\n",
            "4\n",
            "1\n",
            "2 4 1 0 0 "
          ]
        }
      ],
      "source": [
        "n = int(input( ))\n",
        "j = 0\n",
        "l = [0 for i in range(n)]\n",
        "for i in range(n):\n",
        "  cho=int(input())\n",
        "  if cho != 0:\n",
        "    l[j] = cho\n",
        "    j += 1\n",
        "\n",
        "\n",
        "for i in l:\n",
        "  print(i,end = \" \")\n",
        "\n",
        "\n",
        "\n",
        "\n",
        "\n",
        "\n",
        "\n",
        "\n",
        "\n",
        "\n",
        "\n",
        "\n",
        "\n",
        "\n",
        "\n"
      ]
    }
  ]
}