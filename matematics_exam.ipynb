{
  "nbformat": 4,
  "nbformat_minor": 0,
  "metadata": {
    "colab": {
      "provenance": [],
      "authorship_tag": "ABX9TyOUMC+30THWPw7Bg04zkE/q",
      "include_colab_link": true
    },
    "kernelspec": {
      "name": "python3",
      "display_name": "Python 3"
    },
    "language_info": {
      "name": "python"
    }
  },
  "cells": [
    {
      "cell_type": "markdown",
      "metadata": {
        "id": "view-in-github",
        "colab_type": "text"
      },
      "source": [
        "<a href=\"https://colab.research.google.com/github/sunandhini96/Programming/blob/main/matematics_exam.ipynb\" target=\"_parent\"><img src=\"https://colab.research.google.com/assets/colab-badge.svg\" alt=\"Open In Colab\"/></a>"
      ]
    },
    {
      "cell_type": "markdown",
      "source": [
        "## Problem Statement:\n",
        "```\n",
        "N = 5 # number of students\n",
        "k = 1 # number of reevaluations\n",
        "[4,2,3,7,8]\n",
        "2 nd position : 4\n",
        "\n",
        "answer = number of merit students\n",
        "\n",
        "\n",
        "```"
      ],
      "metadata": {
        "id": "hKy8W9KmN4dR"
      }
    },
    {
      "cell_type": "markdown",
      "source": [
        "## Method 1:"
      ],
      "metadata": {
        "id": "c4THN876O50N"
      }
    },
    {
      "cell_type": "code",
      "execution_count": 1,
      "metadata": {
        "colab": {
          "base_uri": "https://localhost:8080/"
        },
        "id": "s2vKG2uaAW9y",
        "outputId": "d2e8bda8-1c2d-4110-faf0-f8ebf753c654"
      },
      "outputs": [
        {
          "output_type": "stream",
          "name": "stdout",
          "text": [
            "number of students: 5\n",
            "number of reevaluations: 2\n",
            "enter the marks:11\n",
            "enter the marks:21\n",
            "enter the marks:32\n",
            "enter the marks:45\n",
            "enter the marks:52\n",
            "enter the position: 1\n",
            "enter the marks for reevaluation: 3\n",
            "after the 0 th re-evaluation : 5\n",
            "enter the position: 4\n",
            "enter the marks for reevaluation: 2\n",
            "after the 1 th re-evaluation : 3\n"
          ]
        }
      ],
      "source": [
        "n = int(input(\"number of students: \"))\n",
        "k = int(input(\"number of reevaluations: \"))\n",
        "def func(x,y,n):\n",
        "  marks[x-1]=y\n",
        "  ans = 1\n",
        "  for i in range(1,n):\n",
        "    if marks[i] != marks[i-1]:\n",
        "      ans += 1\n",
        "  return ans\n",
        "marks = []\n",
        "for i in range(n):\n",
        "  marks.append(int(input(f\"enter the marks:{i+1}  \")))\n",
        "for i in range(k):\n",
        "  x = int(input(\"enter the position: \"))\n",
        "  y = int(input(\"enter the marks for reevaluation: \"))\n",
        "  r = func(x,y,n)\n",
        "  print(f\"after the {i} re-evaluation : {r}\")\n",
        "\n",
        "\n",
        "\n",
        "\n",
        "\n",
        "\n",
        "\n",
        "\n",
        "\n",
        "\n",
        "\n",
        "\n",
        "\n",
        "\n",
        "\n"
      ]
    }
  ]
}