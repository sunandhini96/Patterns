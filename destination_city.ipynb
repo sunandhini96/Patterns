{
  "nbformat": 4,
  "nbformat_minor": 0,
  "metadata": {
    "colab": {
      "provenance": [],
      "authorship_tag": "ABX9TyP7YW+MWKXMeCR4UyfrE3//",
      "include_colab_link": true
    },
    "kernelspec": {
      "name": "python3",
      "display_name": "Python 3"
    },
    "language_info": {
      "name": "python"
    }
  },
  "cells": [
    {
      "cell_type": "markdown",
      "metadata": {
        "id": "view-in-github",
        "colab_type": "text"
      },
      "source": [
        "<a href=\"https://colab.research.google.com/github/sunandhini96/Programming/blob/main/destination_city.ipynb\" target=\"_parent\"><img src=\"https://colab.research.google.com/assets/colab-badge.svg\" alt=\"Open In Colab\"/></a>"
      ]
    },
    {
      "cell_type": "markdown",
      "source": [
        "You are given the array paths, where paths[i] = [cityAi, cityBi] means there exists a direct path going from cityAi to cityBi. Return the destination city, that is, the city without any path outgoing to another city.\n",
        "\n",
        "It is guaranteed that the graph of paths forms a line without any loop, therefore, there will be exactly one destination city.\n",
        "\n",
        "```\n",
        "\n",
        "Example 1:\n",
        "\n",
        "Input: paths = [[\"London\",\"New York\"],[\"New York\",\"Lima\"],[\"Lima\",\"Sao Paulo\"]]\n",
        "Output: \"Sao Paulo\"\n",
        "Explanation: Starting at \"London\" city you will reach \"Sao Paulo\" city which is the destination city. Your trip consist of: \"London\" -> \"New York\" -> \"Lima\" -> \"Sao Paulo\".\n",
        "Example 2:\n",
        "\n",
        "Input: paths = [[\"B\",\"C\"],[\"D\",\"B\"],[\"C\",\"A\"]]\n",
        "Output: \"A\"\n",
        "Explanation: All possible trips are:\n",
        "\"D\" -> \"B\" -> \"C\" -> \"A\".\n",
        "\"B\" -> \"C\" -> \"A\".\n",
        "\"C\" -> \"A\".\n",
        "\"A\".\n",
        "Clearly the destination city is \"A\".\n",
        "Example 3:\n",
        "\n",
        "Input: paths = [[\"A\",\"Z\"]]\n",
        "Output: \"Z\"\n",
        "```"
      ],
      "metadata": {
        "id": "ikon8sdgmAm7"
      }
    },
    {
      "cell_type": "code",
      "execution_count": 8,
      "metadata": {
        "colab": {
          "base_uri": "https://localhost:8080/",
          "height": 35
        },
        "id": "n_GQBlhYeQsm",
        "outputId": "dee2787d-a768-4209-d92c-f5336d34d5cf"
      },
      "outputs": [
        {
          "output_type": "execute_result",
          "data": {
            "text/plain": [
              "'OAxMijOZgW'"
            ],
            "application/vnd.google.colaboratory.intrinsic+json": {
              "type": "string"
            }
          },
          "metadata": {},
          "execution_count": 8
        }
      ],
      "source": [
        "class Solution(object):\n",
        "    def destCity(self, paths):\n",
        "        \"\"\"\n",
        "        :type paths: List[List[str]]\n",
        "        :rtype: str\n",
        "        \"\"\"\n",
        "        # Create a set to store all starting cities\n",
        "        starting_cities = set(path[0] for path in paths)\n",
        "\n",
        "        # Iterate through paths to find the destination city\n",
        "        for path in paths:\n",
        "            # If the ending city is not a starting city, it is the destination city\n",
        "            if path[1] not in starting_cities:\n",
        "                return path[1]\n",
        "\n",
        "        # This line should not be reached if the input is valid, but if needed, you can return a default value\n",
        "        return None\n",
        "\n",
        "\n",
        "paths =[[\"qMTSlfgZlC\",\"ePvzZaqLXj\"],[\"xKhZXfuBeC\",\"TtnllZpKKg\"],[\"ePvzZaqLXj\",\"sxrvXFcqgG\"],[\"sxrvXFcqgG\",\"xKhZXfuBeC\"],[\"TtnllZpKKg\",\"OAxMijOZgW\"]]\n",
        "s = Solution()\n",
        "s.destCity(paths)"
      ]
    }
  ]
}