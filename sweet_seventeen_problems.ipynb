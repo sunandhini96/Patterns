{
  "nbformat": 4,
  "nbformat_minor": 0,
  "metadata": {
    "colab": {
      "provenance": [],
      "authorship_tag": "ABX9TyNJ1U3uAQGtq4XjIftGLob4",
      "include_colab_link": true
    },
    "kernelspec": {
      "name": "python3",
      "display_name": "Python 3"
    },
    "language_info": {
      "name": "python"
    }
  },
  "cells": [
    {
      "cell_type": "markdown",
      "metadata": {
        "id": "view-in-github",
        "colab_type": "text"
      },
      "source": [
        "<a href=\"https://colab.research.google.com/github/sunandhini96/Programming/blob/main/sweet_seventeen_problems.ipynb\" target=\"_parent\"><img src=\"https://colab.research.google.com/assets/colab-badge.svg\" alt=\"Open In Colab\"/></a>"
      ]
    },
    {
      "cell_type": "markdown",
      "source": [
        "## Problem Statement:\n",
        "Given a maximum of four digit to the base 17 (10 – A, 11 – B, 12 – C, 13 – D … 16 – G} as input, output its decimal value."
      ],
      "metadata": {
        "id": "O6Y9fTB4PPW9"
      }
    },
    {
      "cell_type": "markdown",
      "source": [
        "## Test Cases\n",
        "Case 1\n",
        "\n",
        "Input – 1A\n",
        "\n",
        "Expected Output – 27\n",
        "\n",
        "Case 2\n",
        "\n",
        "Input – 23GF\n",
        "\n",
        "Expected Output – 10980"
      ],
      "metadata": {
        "id": "mzcznHtUPIMu"
      }
    },
    {
      "cell_type": "code",
      "execution_count": null,
      "metadata": {
        "colab": {
          "base_uri": "https://localhost:8080/"
        },
        "id": "s2vKG2uaAW9y",
        "outputId": "fc678c85-2821-48f4-b6c2-f180629b6f25"
      },
      "outputs": [
        {
          "output_type": "execute_result",
          "data": {
            "text/plain": [
              "10980"
            ]
          },
          "metadata": {},
          "execution_count": 11
        }
      ],
      "source": [
        "def base17_decimal(N):\n",
        "  dict = {'A':10,'B':11,\n",
        "        'C':12,'D':13,'E':14,'F':15,'G':16}\n",
        "  N = N.upper()\n",
        "\n",
        "  sum = 0\n",
        "  for ind,ele in enumerate(reversed(N)):\n",
        "    if ele.isdigit():\n",
        "      decimal_digit = int(ele)\n",
        "\n",
        "    else:\n",
        "      decimal_digit = dict[ele]\n",
        "    sum += decimal_digit * (17 ** ind)\n",
        "  return sum\n",
        "\n",
        "\n",
        "\n",
        "\n",
        "\n",
        "n=\"23GF\"\n",
        "base17_decimal(n)\n",
        "\n",
        "\n",
        "\n",
        "\n",
        "\n"
      ]
    }
  ]
}