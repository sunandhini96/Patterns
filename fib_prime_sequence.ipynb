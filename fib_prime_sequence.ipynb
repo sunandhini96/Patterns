{
  "nbformat": 4,
  "nbformat_minor": 0,
  "metadata": {
    "colab": {
      "provenance": [],
      "authorship_tag": "ABX9TyPusi8apcQdgeDahr3CUtgh",
      "include_colab_link": true
    },
    "kernelspec": {
      "name": "python3",
      "display_name": "Python 3"
    },
    "language_info": {
      "name": "python"
    }
  },
  "cells": [
    {
      "cell_type": "markdown",
      "metadata": {
        "id": "view-in-github",
        "colab_type": "text"
      },
      "source": [
        "<a href=\"https://colab.research.google.com/github/sunandhini96/Programming/blob/main/fib_prime_sequence.ipynb\" target=\"_parent\"><img src=\"https://colab.research.google.com/assets/colab-badge.svg\" alt=\"Open In Colab\"/></a>"
      ]
    },
    {
      "cell_type": "markdown",
      "source": [
        "## Problem Statement:\n",
        "Consider the below series:\n",
        "1, 2, 1, 3, 2, 5, 3, 7, 5, 11, 8, 13, 13, 17…..\n",
        "\n",
        "This series is a mixture of 2 series fail the odd terms in this series form a Fibonacci series and all the even terms are the prime numbers in ascending order\n",
        "\n",
        "Write a program to find the Nth term in this series\n",
        "\n",
        "The value N in a positive integer that should be read from mm. The Nth term that is calculated by the program should be written to STDOUT Otherthan the value of Nth term , no other characters / string or message should be written to STDOUT.\n",
        "\n",
        "For example, when N:14, the 14th term in the series is 17 So only the value 17 should be printed to STDOUT\n",
        "\n"
      ],
      "metadata": {
        "id": "hKy8W9KmN4dR"
      }
    },
    {
      "cell_type": "markdown",
      "source": [
        "## Method 1:"
      ],
      "metadata": {
        "id": "c4THN876O50N"
      }
    },
    {
      "cell_type": "code",
      "execution_count": 15,
      "metadata": {
        "colab": {
          "base_uri": "https://localhost:8080/"
        },
        "id": "s2vKG2uaAW9y",
        "outputId": "244d813e-4226-42d1-a6cb-120ce16ec8d1"
      },
      "outputs": [
        {
          "output_type": "stream",
          "name": "stdout",
          "text": [
            "Enter the value of N: 6\n",
            "5\n"
          ]
        }
      ],
      "source": [
        "def fib(num):\n",
        "    if num == 0 or num == 1:\n",
        "        return 1\n",
        "    else:\n",
        "        return fib(num-1) + fib(num-2)\n",
        "\n",
        "def generate_primes(n):\n",
        "    primes = []\n",
        "    num = 2\n",
        "    while len(primes) < n:\n",
        "        is_prime = True\n",
        "        for i in range(2, int(num ** 0.5) + 1):\n",
        "            if num % i == 0:\n",
        "                is_prime = False\n",
        "                break\n",
        "        if is_prime:\n",
        "            primes.append(num)\n",
        "        num += 1\n",
        "    return primes\n",
        "\n",
        "def find_nth_term(n):\n",
        "    if n == 1:\n",
        "        return 1\n",
        "    elif n % 2 == 0:\n",
        "        primes = generate_primes(n // 2)\n",
        "        return primes[-1]  # Return the last prime number found\n",
        "    else:\n",
        "        return fib(n // 2)\n",
        "\n",
        "# Input N\n",
        "N = int(input(\"Enter the value of N: \"))\n",
        "result = find_nth_term(N)\n",
        "print(result)\n",
        "\n",
        "\n",
        "\n",
        "\n",
        "\n",
        "\n",
        "\n",
        "\n",
        "\n",
        "\n",
        "\n",
        "\n",
        "\n",
        "\n",
        "\n",
        "\n",
        "\n",
        "\n"
      ]
    }
  ]
}