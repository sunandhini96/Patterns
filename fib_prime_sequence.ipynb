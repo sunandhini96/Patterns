{
  "nbformat": 4,
  "nbformat_minor": 0,
  "metadata": {
    "colab": {
      "provenance": [],
      "authorship_tag": "ABX9TyPubrezS9xNN1ipHBM+rozY",
      "include_colab_link": true
    },
    "kernelspec": {
      "name": "python3",
      "display_name": "Python 3"
    },
    "language_info": {
      "name": "python"
    }
  },
  "cells": [
    {
      "cell_type": "markdown",
      "metadata": {
        "id": "view-in-github",
        "colab_type": "text"
      },
      "source": [
        "<a href=\"https://colab.research.google.com/github/sunandhini96/Programming/blob/main/fib_prime_sequence.ipynb\" target=\"_parent\"><img src=\"https://colab.research.google.com/assets/colab-badge.svg\" alt=\"Open In Colab\"/></a>"
      ]
    },
    {
      "cell_type": "markdown",
      "source": [
        "## Problem Statement:\n",
        "Consider the below series :\n",
        "\n",
        "0,0,2,1,4,2,6,3,8,4,10,5,12,6,14,7,16,8\n",
        "This series is a mixture of 2 series all the odd terms in this series form even numbers in ascending order\n",
        "Every even terms is derived from the previous  term using the formula (x/2)\n",
        "Write a program to find the nth term in this series.\n",
        "\n",
        "The value n in a positive integer that should be read from STDIN the nth term that is calculated by the program should be written to STDOUT.\n",
        "Other than the value of the nth term no other characters /strings or message should be written to STDOUT.\n",
        "For example\n",
        "\n",
        "if n=10,the 10 th term in the series is to be derived from the 9th term in the series. The 9th term is 8 so the 10th term is (8/2)=4. Only the value 4 should be printed to STDOUT.\n",
        "\n",
        "You can assume that the n will not exceed 20,000.\n",
        "\n"
      ],
      "metadata": {
        "id": "hKy8W9KmN4dR"
      }
    },
    {
      "cell_type": "markdown",
      "source": [
        "## Method 1:"
      ],
      "metadata": {
        "id": "c4THN876O50N"
      }
    },
    {
      "cell_type": "code",
      "execution_count": 24,
      "metadata": {
        "colab": {
          "base_uri": "https://localhost:8080/"
        },
        "id": "s2vKG2uaAW9y",
        "outputId": "f0017279-8276-48d0-80be-b1a8ea3de3b0"
      },
      "outputs": [
        {
          "output_type": "stream",
          "name": "stdout",
          "text": [
            "10\n",
            "4\n"
          ]
        }
      ],
      "source": [
        "\n",
        "num = int(input())\n",
        "if num % 2 == 0:\n",
        "  r = 2 * ((num-1)// 2)\n",
        "  res = r // 2\n",
        "  print(res)\n",
        "\n",
        "else:\n",
        "  res = 2 * (num // 2)\n",
        "  print(res)\n",
        "\n",
        "\n",
        "\n",
        "\n",
        "\n",
        "\n",
        "\n",
        "\n",
        "\n",
        "\n",
        "\n",
        "\n",
        "\n",
        "\n",
        "\n",
        "\n",
        "\n"
      ]
    }
  ]
}