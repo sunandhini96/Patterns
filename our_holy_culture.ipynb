{
  "nbformat": 4,
  "nbformat_minor": 0,
  "metadata": {
    "colab": {
      "provenance": [],
      "authorship_tag": "ABX9TyMohCQ4R/7GHh4pERmNOFm1",
      "include_colab_link": true
    },
    "kernelspec": {
      "name": "python3",
      "display_name": "Python 3"
    },
    "language_info": {
      "name": "python"
    }
  },
  "cells": [
    {
      "cell_type": "markdown",
      "metadata": {
        "id": "view-in-github",
        "colab_type": "text"
      },
      "source": [
        "<a href=\"https://colab.research.google.com/github/sunandhini96/Programming/blob/main/our_holy_culture.ipynb\" target=\"_parent\"><img src=\"https://colab.research.google.com/assets/colab-badge.svg\" alt=\"Open In Colab\"/></a>"
      ]
    },
    {
      "cell_type": "markdown",
      "source": [
        "## Problem Statement:\n",
        "Our hoary culture had several great persons since time immemorial and king vikramaditya’s nava ratnas (nine gems) belongs to this ilk.They are named in the following shloka:\n",
        "Among these, Varahamihira was an astrologer of eminence and his book Brihat Jataak is recokened as the ultimate authority in astrology.\n",
        "\n",
        "He was once talking with Amarasimha,another gem among the nava ratnas and the author of Sanskrit thesaurus, Amarakosha.\n",
        "\n",
        "Amarasimha wanted to know the final position of a person, who starts from the origin 0 0 and travels per following scheme.\n",
        "\n",
        "Scheme\n",
        "\n",
        "He first turns and travels 10 units of distance\n",
        "\n",
        "His second turn is upward for 20 units\n",
        "\n",
        "Third turn is to the left for 30 units\n",
        "\n",
        "Fourth turn is the downward for 40 units\n",
        "\n",
        "Fifth turn is to the right(again) for 50 units\n",
        "\n",
        "… And thus he travels, every time increasing the travel distance by 10 units."
      ],
      "metadata": {
        "id": "hKy8W9KmN4dR"
      }
    },
    {
      "cell_type": "code",
      "execution_count": 1,
      "metadata": {
        "colab": {
          "base_uri": "https://localhost:8080/"
        },
        "id": "s2vKG2uaAW9y",
        "outputId": "f0049026-a02d-4ea5-a961-eb4747a00f1f"
      },
      "outputs": [
        {
          "output_type": "stream",
          "name": "stdout",
          "text": [
            "5\n",
            "30 -20\n"
          ]
        }
      ],
      "source": [
        "n = int(input())\n",
        "c = 'R'\n",
        "dis = 10\n",
        "x,y=0,0\n",
        "for i in range(n):\n",
        "    if c=='R':\n",
        "        x=x+dis\n",
        "        c='U'\n",
        "        dis=dis+10\n",
        "    elif c=='U':\n",
        "        y=y+dis\n",
        "        c='L'\n",
        "        dis=dis+10\n",
        "    elif c=='L':\n",
        "        x=x-dis\n",
        "        c='D'\n",
        "        dis=dis+10\n",
        "    elif c=='D':\n",
        "        y=y-dis\n",
        "        c='A'\n",
        "        dis=dis+10\n",
        "    elif c=='A':\n",
        "        x=x+dis\n",
        "        c='R'\n",
        "        dis=dis+10\n",
        "print(x,y)\n",
        "\n",
        "\n",
        "\n",
        "\n"
      ]
    }
  ]
}