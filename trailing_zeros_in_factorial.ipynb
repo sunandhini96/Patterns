{
  "nbformat": 4,
  "nbformat_minor": 0,
  "metadata": {
    "colab": {
      "provenance": [],
      "authorship_tag": "ABX9TyOM14IhQJao45vuyNHjaDNy",
      "include_colab_link": true
    },
    "kernelspec": {
      "name": "python3",
      "display_name": "Python 3"
    },
    "language_info": {
      "name": "python"
    }
  },
  "cells": [
    {
      "cell_type": "markdown",
      "metadata": {
        "id": "view-in-github",
        "colab_type": "text"
      },
      "source": [
        "<a href=\"https://colab.research.google.com/github/sunandhini96/Programming/blob/main/trailing_zeros_in_factorial.ipynb\" target=\"_parent\"><img src=\"https://colab.research.google.com/assets/colab-badge.svg\" alt=\"Open In Colab\"/></a>"
      ]
    },
    {
      "cell_type": "markdown",
      "source": [
        "## Examples:\n",
        "Input: n = 5\n",
        "Output: 1\n",
        "Explanation: Factorial of 5 is 120 which has one trailing 0.\n",
        "\n",
        "Input: n = 20\n",
        "Output: 4\n",
        "Explanation: Factorial of 20 is 2432902008176640000 which has 4 trailing zeroes.\n",
        "\n",
        "Input: n = 100\n",
        "Output: 24"
      ],
      "metadata": {
        "id": "NzVa5ExxN_aI"
      }
    },
    {
      "cell_type": "markdown",
      "source": [
        "## Method: 1"
      ],
      "metadata": {
        "id": "P5AbJYb5PUqU"
      }
    },
    {
      "cell_type": "code",
      "execution_count": 1,
      "metadata": {
        "colab": {
          "base_uri": "https://localhost:8080/"
        },
        "id": "snryWT-SN1q0",
        "outputId": "a9d51438-bbe5-4dab-ab22-06ab23d506c6"
      },
      "outputs": [
        {
          "output_type": "stream",
          "name": "stdout",
          "text": [
            "24\n"
          ]
        }
      ],
      "source": [
        "def findTrailingZeros(n):\n",
        "  if n<1:\n",
        "    return -1\n",
        "  # count trailing 0s in n!\n",
        "  count = 0\n",
        "  # keep dividing n by powers of 5 and update count\n",
        "  i=5\n",
        "  while (n/i>=1):\n",
        "    count += int(n/i)\n",
        "    i *= 5\n",
        "  return count\n",
        "\n",
        "\n",
        "f = findTrailingZeros(100)\n",
        "print(f)\n",
        "\n",
        "\n",
        "\n"
      ]
    },
    {
      "cell_type": "markdown",
      "source": [
        "## Method 2:"
      ],
      "metadata": {
        "id": "gbSaKrH5PWxW"
      }
    },
    {
      "cell_type": "code",
      "source": [
        "def findTrailingZeros(n):\n",
        "  if n<1:\n",
        "    return -1\n",
        "  # count trailing 0s in n!\n",
        "  count = 0\n",
        "  # keep dividing n by powers of 5 and update count\n",
        "\n",
        "  while (n>=5):\n",
        "    n //= 5\n",
        "    count += n\n",
        "  return count\n",
        "\n",
        "\n",
        "f = findTrailingZeros(20)\n",
        "print(f)\n"
      ],
      "metadata": {
        "colab": {
          "base_uri": "https://localhost:8080/"
        },
        "id": "mmlklWJiPTuz",
        "outputId": "3d913229-1af4-40bf-9881-543e29599223"
      },
      "execution_count": 3,
      "outputs": [
        {
          "output_type": "stream",
          "name": "stdout",
          "text": [
            "4\n"
          ]
        }
      ]
    }
  ]
}