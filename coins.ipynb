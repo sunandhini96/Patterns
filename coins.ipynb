{
  "nbformat": 4,
  "nbformat_minor": 0,
  "metadata": {
    "colab": {
      "provenance": [],
      "authorship_tag": "ABX9TyON8K+jdcVZUFn3SytkaI2I",
      "include_colab_link": true
    },
    "kernelspec": {
      "name": "python3",
      "display_name": "Python 3"
    },
    "language_info": {
      "name": "python"
    }
  },
  "cells": [
    {
      "cell_type": "markdown",
      "metadata": {
        "id": "view-in-github",
        "colab_type": "text"
      },
      "source": [
        "<a href=\"https://colab.research.google.com/github/sunandhini96/Programming/blob/main/coins.ipynb\" target=\"_parent\"><img src=\"https://colab.research.google.com/assets/colab-badge.svg\" alt=\"Open In Colab\"/></a>"
      ]
    },
    {
      "cell_type": "markdown",
      "source": [
        "## Problem Statement:\n",
        "Find the minimum number of coins required to form any value between 1 to N,both inclusive.Cumulative value of coins should not exceed N. Coin denominations are 1 Rupee, 2 Rupee and 5 Rupee.Let’s Understand the problem using the following example. Consider the value of N is 13, then the minimum number of coins required to formulate any value between 1 and 13, is 6. One 5 Rupee, three 2 Rupee and two 1 Rupee coins are required to realize any value between 1 and 13. Hence this is the answer.However, if one takes two 5 Rupee coins, one 2 rupee coin and two 1 rupee coin, then too all values between 1 and 13 are achieved. But since the cumulative value of all coins equals 14, i.e., exceeds 13, this is not the answer.\n",
        "\n",
        "Input Format:\n",
        "\n",
        "A single integer value.\n",
        "\n",
        "Output Format:\n",
        "\n",
        "Four space separated integer values.\n",
        "```\n",
        "1st – Total number of coins.\n",
        "2nd – number of 5 Rupee coins.\n",
        "3rd – number of 2 Rupee coins.\n",
        "4th – number of 1 Rupee coins.\n",
        "Constraints:\n",
        "0 < n < 1000\n",
        "Refer the sample output for formatting\n",
        "```\n",
        "Sample Input:\n",
        "13\n",
        "\n",
        "Sample Output:\n",
        "6 1 3 2\n",
        "\n",
        "```\n",
        "Explanation:\n",
        "The minimum number of coins required is 6 with in it:\n",
        "minimum number of 5 Rupee coins = 1\n",
        "minimum number of 2 Rupee coins = 3\n",
        "minimum number of 1 Rupee coins = 2\n",
        "\n",
        "\n",
        "\n",
        "\n",
        "```"
      ],
      "metadata": {
        "id": "hKy8W9KmN4dR"
      }
    },
    {
      "cell_type": "markdown",
      "source": [
        "## Method 1:"
      ],
      "metadata": {
        "id": "c4THN876O50N"
      }
    },
    {
      "cell_type": "code",
      "execution_count": 7,
      "metadata": {
        "colab": {
          "base_uri": "https://localhost:8080/"
        },
        "id": "s2vKG2uaAW9y",
        "outputId": "281d6e21-d3c8-47e1-e45c-1d7fcc336773"
      },
      "outputs": [
        {
          "output_type": "stream",
          "name": "stdout",
          "text": [
            "10\n",
            "1\n",
            "minimum number of coins required is: 4\n",
            "minimum number of 5 Rupee coins =  1\n",
            "minimum number of 2 Rupee coins =  2\n",
            "minimum number of 1 Rupee coins =  1\n"
          ]
        }
      ],
      "source": [
        "one,two = 0,0\n",
        "number = int(input())\n",
        "five = (number - 4) // 5\n",
        "print(five)\n",
        "if ((number - (5*five)) % 2 == 0):\n",
        "  one = 2\n",
        "else:\n",
        "  one = 1\n",
        "two = (number - (5*five) - one) // 2\n",
        "print(\"minimum number of coins required is:\", five+one+two)\n",
        "print(\"minimum number of 5 Rupee coins = \", five)\n",
        "print(\"minimum number of 2 Rupee coins = \", two)\n",
        "print(\"minimum number of 1 Rupee coins = \", one)\n",
        "\n",
        "\n",
        "\n",
        "\n",
        "\n",
        "\n",
        "\n",
        "\n",
        "\n",
        "\n",
        "\n",
        "\n",
        "\n",
        "\n",
        "\n"
      ]
    }
  ]
}