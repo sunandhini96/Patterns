{
  "nbformat": 4,
  "nbformat_minor": 0,
  "metadata": {
    "colab": {
      "provenance": [],
      "authorship_tag": "ABX9TyMKO7BLandVAf68lOCCweRn",
      "include_colab_link": true
    },
    "kernelspec": {
      "name": "python3",
      "display_name": "Python 3"
    },
    "language_info": {
      "name": "python"
    }
  },
  "cells": [
    {
      "cell_type": "markdown",
      "metadata": {
        "id": "view-in-github",
        "colab_type": "text"
      },
      "source": [
        "<a href=\"https://colab.research.google.com/github/sunandhini96/Patterns/blob/main/pattern_palindrome.ipynb\" target=\"_parent\"><img src=\"https://colab.research.google.com/assets/colab-badge.svg\" alt=\"Open In Colab\"/></a>"
      ]
    },
    {
      "cell_type": "markdown",
      "source": [
        "## Palindrome triangle"
      ],
      "metadata": {
        "id": "hCIrrCeV9h7o"
      }
    },
    {
      "cell_type": "code",
      "execution_count": null,
      "metadata": {
        "colab": {
          "base_uri": "https://localhost:8080/"
        },
        "id": "tK_V9ddR1oPh",
        "outputId": "fa25da4b-7511-4092-a763-1fba1746e908"
      },
      "outputs": [
        {
          "output_type": "stream",
          "name": "stdout",
          "text": [
            "1 \n",
            "1 1 \n",
            "1 2 1 \n",
            "1 3 3 1 \n",
            "1 4 6 4 1 \n"
          ]
        }
      ],
      "source": [
        "\n",
        "\n",
        "def print_pascals_triangle(n):\n",
        "    for line in range(n):\n",
        "        # First number in each line is always 1\n",
        "        num = 1\n",
        "        for i in range(line + 1):\n",
        "            print(num, end=' ')\n",
        "            num = num * (line - i) // (i + 1)\n",
        "        print()\n",
        "print_pascals_triangle(5)"
      ]
    },
    {
      "cell_type": "code",
      "source": [
        "def print_pascals_triangle(n):\n",
        "    list1 = []\n",
        "    for line in range(n):\n",
        "        # First number in each line is always 1\n",
        "        temp_list = []\n",
        "        for i in range(line + 1):\n",
        "            if i == 0 or i == line:\n",
        "                temp_list.append(1)\n",
        "            else:\n",
        "                temp_list.append(list1[line- 1][i] + list1[line- 1][i - 1])\n",
        "        list1.append(temp_list)\n",
        "        # Printing the line without brackets and commas\n",
        "        print(\" \".join(map(str, temp_list)))\n",
        "\n",
        "\n",
        "print_pascals_triangle(5)\n"
      ],
      "metadata": {
        "colab": {
          "base_uri": "https://localhost:8080/"
        },
        "id": "pKJd2mUczono",
        "outputId": "5c635a3a-0617-4312-8355-6c5dbf8f4684"
      },
      "execution_count": 12,
      "outputs": [
        {
          "output_type": "stream",
          "name": "stdout",
          "text": [
            "1\n",
            "1 1\n",
            "1 2 1\n",
            "1 3 3 1\n",
            "1 4 6 4 1\n"
          ]
        }
      ]
    }
  ]
}