{
  "nbformat": 4,
  "nbformat_minor": 0,
  "metadata": {
    "colab": {
      "provenance": [],
      "authorship_tag": "ABX9TyNVjzQX1BamxyQBKpq8BMSq",
      "include_colab_link": true
    },
    "kernelspec": {
      "name": "python3",
      "display_name": "Python 3"
    },
    "language_info": {
      "name": "python"
    }
  },
  "cells": [
    {
      "cell_type": "markdown",
      "metadata": {
        "id": "view-in-github",
        "colab_type": "text"
      },
      "source": [
        "<a href=\"https://colab.research.google.com/github/sunandhini96/Programming/blob/main/most_common_word.ipynb\" target=\"_parent\"><img src=\"https://colab.research.google.com/assets/colab-badge.svg\" alt=\"Open In Colab\"/></a>"
      ]
    },
    {
      "cell_type": "markdown",
      "source": [
        "Given a string paragraph and a string array of the banned words banned, return the most frequent word that is not banned. It is guaranteed there is at least one word that is not banned, and that the answer is unique.\n",
        "\n",
        "The words in paragraph are case-insensitive and the answer should be returned in lowercase.\n",
        "\n",
        " ```\n",
        "\n",
        "Example 1:\n",
        "\n",
        "Input: paragraph = \"Bob hit a ball, the hit BALL flew far after it was hit.\", banned = [\"hit\"]\n",
        "Output: \"ball\"\n",
        "Explanation:\n",
        "\"hit\" occurs 3 times, but it is a banned word.\n",
        "\"ball\" occurs twice (and no other word does), so it is the most frequent non-banned word in the paragraph.\n",
        "Note that words in the paragraph are not case sensitive,\n",
        "that punctuation is ignored (even if adjacent to words, such as \"ball,\"),\n",
        "and that \"hit\" isn't the answer even though it occurs more because it is banned.\n",
        "Example 2:\n",
        "\n",
        "Input: paragraph = \"a.\", banned = []\n",
        "Output: \"a\"\n",
        "```"
      ],
      "metadata": {
        "id": "4pxc9nqh-m3r"
      }
    },
    {
      "cell_type": "markdown",
      "source": [
        "## Method 1:"
      ],
      "metadata": {
        "id": "9dXbNcofG0Kz"
      }
    },
    {
      "cell_type": "code",
      "execution_count": 14,
      "metadata": {
        "colab": {
          "base_uri": "https://localhost:8080/",
          "height": 35
        },
        "id": "98N_jcOD-fhl",
        "outputId": "892be174-bd99-4226-9efc-2e4178fb7647"
      },
      "outputs": [
        {
          "output_type": "execute_result",
          "data": {
            "text/plain": [
              "'b'"
            ],
            "application/vnd.google.colaboratory.intrinsic+json": {
              "type": "string"
            }
          },
          "metadata": {},
          "execution_count": 14
        }
      ],
      "source": [
        "import re\n",
        "from collections import defaultdict\n",
        "class Solution(object):\n",
        "    def mostCommonWord(self, paragraph, banned):\n",
        "        \"\"\"\n",
        "        :type paragraph: str\n",
        "        :type banned: List[str]\n",
        "        :rtype: str\n",
        "        \"\"\"\n",
        "        paragraph = re.sub(r'[^\\w\\s]',' ',paragraph.lower())\n",
        "        words = defaultdict(int)\n",
        "        for word in paragraph.split():\n",
        "          if word not in banned:\n",
        "            words[word] += 1\n",
        "\n",
        "        return max(words,key=words.get)\n",
        "\n",
        "paragraph = \"a, a, a, a, b,b,b,c, c\"\n",
        "banned = [\"a\"]\n",
        "s= Solution()\n",
        "s.mostCommonWord(paragraph,banned)\n"
      ]
    },
    {
      "cell_type": "markdown",
      "source": [
        "## Method 2:"
      ],
      "metadata": {
        "id": "XmPfVTB5GmRc"
      }
    },
    {
      "cell_type": "code",
      "source": [
        "import re\n",
        "\n",
        "class Solution(object):\n",
        "    def mostCommonWord(self, paragraph, banned):\n",
        "        \"\"\"\n",
        "        :type paragraph: str\n",
        "        :type banned: List[str]\n",
        "        :rtype: str\n",
        "        \"\"\"\n",
        "        paragraph = re.sub(r'[^\\w\\s]',' ',paragraph.lower())\n",
        "        words = {}\n",
        "        max_count = 0\n",
        "        max_word = \"\"\n",
        "        for word in paragraph.split():\n",
        "            if word not in banned:\n",
        "                if word in words:\n",
        "                    words[word] += 1\n",
        "                else:\n",
        "                    words[word] = 1\n",
        "                if words[word] > max_count:\n",
        "                    max_word = word\n",
        "                    max_count = words[word]\n",
        "        return max_word\n"
      ],
      "metadata": {
        "id": "3D-UZCraGo4j"
      },
      "execution_count": 15,
      "outputs": []
    },
    {
      "cell_type": "code",
      "source": [
        "paragraph = \"a, a, a, a, b,b,b,c, c\"\n",
        "banned = [\"a\"]\n",
        "s= Solution()\n",
        "s.mostCommonWord(paragraph,banned)"
      ],
      "metadata": {
        "colab": {
          "base_uri": "https://localhost:8080/",
          "height": 35
        },
        "id": "Bzdbgm-yGsZ_",
        "outputId": "27abfdcc-f006-47dc-ea9d-eddaf4da6aa1"
      },
      "execution_count": 16,
      "outputs": [
        {
          "output_type": "execute_result",
          "data": {
            "text/plain": [
              "'b'"
            ],
            "application/vnd.google.colaboratory.intrinsic+json": {
              "type": "string"
            }
          },
          "metadata": {},
          "execution_count": 16
        }
      ]
    },
    {
      "cell_type": "markdown",
      "source": [
        "## Method 3:\n"
      ],
      "metadata": {
        "id": "6IL-DemLGv9J"
      }
    },
    {
      "cell_type": "code",
      "source": [
        "\n",
        "import re\n",
        "class Solution(object):\n",
        "    def mostCommonWord(self, paragraph, banned):\n",
        "        \"\"\"\n",
        "        :type paragraph: str\n",
        "        :type banned: List[str]\n",
        "        :rtype: str\n",
        "        \"\"\"\n",
        "        paragraph = re.sub(r'[^\\w\\s]',' ',paragraph.lower())\n",
        "        words = {}\n",
        "        for word in paragraph.split():\n",
        "          if word not in banned:\n",
        "              if word in words:\n",
        "                words[word] += 1\n",
        "              else:\n",
        "                words[word] = 1\n",
        "        return max(words,key=words.get)\n",
        "\n",
        "paragraph = \"a, a, a, a, b,b,b,c, c\"\n",
        "banned = [\"a\"]\n",
        "s= Solution()\n",
        "s.mostCommonWord(paragraph,banned)\n"
      ],
      "metadata": {
        "colab": {
          "base_uri": "https://localhost:8080/",
          "height": 35
        },
        "id": "b1_EpbQSGvLe",
        "outputId": "4d528d0f-9425-47cf-9170-edff1d772264"
      },
      "execution_count": 17,
      "outputs": [
        {
          "output_type": "execute_result",
          "data": {
            "text/plain": [
              "'b'"
            ],
            "application/vnd.google.colaboratory.intrinsic+json": {
              "type": "string"
            }
          },
          "metadata": {},
          "execution_count": 17
        }
      ]
    }
  ]
}