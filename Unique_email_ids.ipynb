{
  "nbformat": 4,
  "nbformat_minor": 0,
  "metadata": {
    "colab": {
      "provenance": [],
      "authorship_tag": "ABX9TyNQG1keKaX0ScrNJr3CEf1u",
      "include_colab_link": true
    },
    "kernelspec": {
      "name": "python3",
      "display_name": "Python 3"
    },
    "language_info": {
      "name": "python"
    }
  },
  "cells": [
    {
      "cell_type": "markdown",
      "metadata": {
        "id": "view-in-github",
        "colab_type": "text"
      },
      "source": [
        "<a href=\"https://colab.research.google.com/github/sunandhini96/Programming/blob/main/Unique_email_ids.ipynb\" target=\"_parent\"><img src=\"https://colab.research.google.com/assets/colab-badge.svg\" alt=\"Open In Colab\"/></a>"
      ]
    },
    {
      "cell_type": "markdown",
      "source": [
        "## Unique email ids\n",
        "Every valid email consists of a local name and a domain name, separated by the '@' sign. Besides lowercase letters, the email may contain one or more '.' or '+'.\n",
        "\n",
        "For example, in \"alice@leetcode.com\", \"alice\" is the local name, and \"leetcode.com\" is the domain name.\n",
        "If you add periods '.' between some characters in the local name part of an email address, mail sent there will be forwarded to the same address without dots in the local name. Note that this rule does not apply to domain names.\n",
        "\n",
        "For example, \"alice.z@leetcode.com\" and \"alicez@leetcode.com\" forward to the same email address.\n",
        "If you add a plus '+' in the local name, everything after the first plus sign will be ignored. This allows certain emails to be filtered. Note that this rule does not apply to domain names.\n",
        "\n",
        "For example, \"m.y+name@email.com\" will be forwarded to \"my@email.com\".\n",
        "It is possible to use both of these rules at the same time.\n",
        "\n",
        "Given an array of strings emails where we send one email to each emails[i], return the number of different addresses that actually receive mails.\n",
        "\n",
        "\n",
        "\n",
        "Example 1:\n",
        "\n",
        "Input: emails = [\"test.email+alex@leetcode.com\",\"test.e.mail+bob.cathy@leetcode.com\",\"testemail+david@lee.tcode.com\"]\n",
        "Output: 2\n",
        "Explanation: \"testemail@leetcode.com\" and \"testemail@lee.tcode.com\" actually receive mails."
      ],
      "metadata": {
        "id": "D5wQQLwIVUyI"
      }
    },
    {
      "cell_type": "code",
      "source": [
        "class Solution(object):\n",
        "    def numUniqueEmails(self, emails):\n",
        "        \"\"\"\n",
        "        :type emails: List[str]\n",
        "        :rtype: int\n",
        "        \"\"\"\n",
        "        res = []\n",
        "        for email in emails:\n",
        "            localname,domainname = email.split(\"@\")\n",
        "\n",
        "            # if '+' in localname:\n",
        "            #     localname = localname.split('+')[0]\n",
        "            localname = localname.replace('.','').split('+')[0]\n",
        "            # if '.' in localname:\n",
        "            #     localname =''.join(localname.split('.'))\n",
        "\n",
        "            if localname+'@'+domainname not in res:\n",
        "                res.append(localname+'@'+domainname)\n",
        "        return len(res)"
      ],
      "metadata": {
        "id": "3ZfkGqXmVjaG"
      },
      "execution_count": null,
      "outputs": []
    },
    {
      "cell_type": "code",
      "source": [
        "# class Solution(object):\n",
        "#     def numUniqueEmails(self, emails):\n",
        "#         \"\"\"\n",
        "#         :type emails: List[str]\n",
        "#         :rtype: int\n",
        "#         \"\"\"\n",
        "#         res = []\n",
        "#         for email in emails:\n",
        "#             localname,domainname = email.split(\"@\")\n",
        "\n",
        "#             # if '+' in localname:\n",
        "#             #     localname = localname.split('+')[0]\n",
        "#             localname = localname.replace('.','').split('+')[0]\n",
        "#             # if '.' in localname:\n",
        "#             #     localname =''.join(localname.split('.'))\n",
        "\n",
        "#             if localname+'@'+domainname not in res:\n",
        "#                 res.append(localname+'@'+domainname)\n",
        "#         return len(res)"
      ],
      "metadata": {
        "id": "LccorWDPjzQB"
      },
      "execution_count": null,
      "outputs": []
    },
    {
      "cell_type": "code",
      "source": [
        "# class Solution(object):\n",
        "#     def numUniqueEmails(self, emails):\n",
        "#         \"\"\"\n",
        "#         :type emails: List[str]\n",
        "#         :rtype: int\n",
        "#         \"\"\"\n",
        "#         res = {}\n",
        "#         for email in emails:\n",
        "#             localname,domainname = email.split(\"@\")\n",
        "\n",
        "#             # if '+' in localname:\n",
        "#             #     localname = localname.split('+')[0]\n",
        "#             localname = localname.replace('.','').split('+')[0]\n",
        "#             # if '.' in localname:\n",
        "#             #     localname =''.join(localname.split('.'))\n",
        "#             res[localname+'@'+domainname] = 1 + res.get(localname+'@'+domainname,0)\n",
        "#             print(res)\n",
        "#         return len(res)"
      ],
      "metadata": {
        "id": "2RVD0roZju3i"
      },
      "execution_count": 11,
      "outputs": []
    },
    {
      "cell_type": "code",
      "source": [
        "s = Solution()\n",
        "print(s.numUniqueEmails(emails))"
      ],
      "metadata": {
        "colab": {
          "base_uri": "https://localhost:8080/"
        },
        "id": "dpvAk2srjw6c",
        "outputId": "5a8f71e0-9ef7-4c99-8e03-77cef18c997d"
      },
      "execution_count": 12,
      "outputs": [
        {
          "output_type": "stream",
          "name": "stdout",
          "text": [
            "{'testemail@leetcode.com': 1}\n",
            "{'testemail@leetcode.com': 2}\n",
            "{'testemail@leetcode.com': 2, 'testemail@lee.tcode.com': 1}\n",
            "2\n"
          ]
        }
      ]
    },
    {
      "cell_type": "markdown",
      "source": [
        "# C language:"
      ],
      "metadata": {
        "id": "urV_DIABjsD3"
      }
    },
    {
      "cell_type": "code",
      "source": [
        "void removeDots(char *string)\n",
        "{\n",
        "    int i, k = 0, flag = 0;\n",
        "    for (i = 0; string[i] != '\\0'; i++)\n",
        "    {\n",
        "        if (string[i] == '.' && !flag)\n",
        "        {\n",
        "            k++;\n",
        "        }\n",
        "        else\n",
        "        {\n",
        "            if (string[i] == '@')\n",
        "            {\n",
        "                flag = 1;\n",
        "            }\n",
        "            string[i - k] = string[i];\n",
        "        }\n",
        "    }\n",
        "    string[i - k] = '\\0';\n",
        "}\n",
        "\n",
        "int numUniqueEmails(char **emails, int emailsSize)\n",
        "{\n",
        "    int i, j, k, l, flag = 0;\n",
        "    if (emailsSize == 1)\n",
        "    {\n",
        "        return 1;\n",
        "    }\n",
        "\n",
        "    for (i = 0; i < emailsSize; i++)\n",
        "    {\n",
        "        for (j = 0; emails[i][j] != '@'; j++)\n",
        "        {\n",
        "\n",
        "            if (emails[i][j] == '.')\n",
        "            {\n",
        "                removeDots(emails[i]);\n",
        "            }\n",
        "            else if (emails[i][j] == '+')\n",
        "            {\n",
        "                for (k = j + 1; emails[i][k] != '@'; k++)\n",
        "                {\n",
        "                }\n",
        "                for (l = 0; emails[i][l + k] != '\\0'; l++)\n",
        "                {\n",
        "                    emails[i][l + j] = emails[i][l + k];\n",
        "                }\n",
        "                emails[i][l + j] = emails[i][l + k];\n",
        "                break;\n",
        "            }\n",
        "        }\n",
        "    }\n",
        "    for (i = 0; i < emailsSize - 1; i++)\n",
        "    {\n",
        "        for (j = i + 1; j < emailsSize; j++)\n",
        "        {\n",
        "            if (!strcmp(emails[i], emails[j]))\n",
        "            {\n",
        "                flag++;\n",
        "                break;\n",
        "            }\n",
        "        }\n",
        "    }\n",
        "    return emailsSize - flag;\n",
        "}\n",
        "\n"
      ],
      "metadata": {
        "id": "7lknpmhTjt8W"
      },
      "execution_count": null,
      "outputs": []
    }
  ]
}