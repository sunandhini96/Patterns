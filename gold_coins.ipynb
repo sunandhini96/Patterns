{
  "nbformat": 4,
  "nbformat_minor": 0,
  "metadata": {
    "colab": {
      "provenance": [],
      "authorship_tag": "ABX9TyP/QN/IPH0vbM+3TirXB453",
      "include_colab_link": true
    },
    "kernelspec": {
      "name": "python3",
      "display_name": "Python 3"
    },
    "language_info": {
      "name": "python"
    }
  },
  "cells": [
    {
      "cell_type": "markdown",
      "metadata": {
        "id": "view-in-github",
        "colab_type": "text"
      },
      "source": [
        "<a href=\"https://colab.research.google.com/github/sunandhini96/Programming/blob/main/gold_coins.ipynb\" target=\"_parent\"><img src=\"https://colab.research.google.com/assets/colab-badge.svg\" alt=\"Open In Colab\"/></a>"
      ]
    },
    {
      "cell_type": "code",
      "execution_count": 5,
      "metadata": {
        "colab": {
          "base_uri": "https://localhost:8080/"
        },
        "id": "s2vKG2uaAW9y",
        "outputId": "4486ade4-14e3-436d-dee0-46d340edbc05"
      },
      "outputs": [
        {
          "output_type": "stream",
          "name": "stdout",
          "text": [
            "(8, 10)\n"
          ]
        }
      ],
      "source": [
        "def find_rooms(N,K,coins):\n",
        "  start,end,current_sum = 0,0,0\n",
        "  result_start,result_end = 0,float(\"inf\")\n",
        "  while end < N:\n",
        "    current_sum += coins[end]\n",
        "    while current_sum > K:\n",
        "      current_sum-=coins[start]\n",
        "      start+=1\n",
        "    if current_sum == K:\n",
        "      if end-start < result_end - result_start:\n",
        "        result_end,result_start = end,start\n",
        "    end+=1\n",
        "  if end == float(\"inf\"):\n",
        "    return \"Not found\"\n",
        "  else:\n",
        "    return result_start+1,result_end+1\n",
        "N=10\n",
        "K=15\n",
        "coins = [5,3,2,5,18,1,18,4,3,8]\n",
        "print(find_rooms(N,K,coins))\n",
        "\n",
        "\n",
        "\n"
      ]
    }
  ]
}