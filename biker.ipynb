{
  "nbformat": 4,
  "nbformat_minor": 0,
  "metadata": {
    "colab": {
      "provenance": [],
      "authorship_tag": "ABX9TyMiP1WMAi4KG3FaxmyB7bbC",
      "include_colab_link": true
    },
    "kernelspec": {
      "name": "python3",
      "display_name": "Python 3"
    },
    "language_info": {
      "name": "python"
    }
  },
  "cells": [
    {
      "cell_type": "markdown",
      "metadata": {
        "id": "view-in-github",
        "colab_type": "text"
      },
      "source": [
        "<a href=\"https://colab.research.google.com/github/sunandhini96/Programming/blob/main/biker.ipynb\" target=\"_parent\"><img src=\"https://colab.research.google.com/assets/colab-badge.svg\" alt=\"Open In Colab\"/></a>"
      ]
    },
    {
      "cell_type": "markdown",
      "source": [
        "## Problem Statement:\n",
        "0 - north\n",
        "\n",
        "1 - south\n",
        "\n",
        "how many times biker cross\n",
        "\n",
        "```\n",
        "input :\n",
        "5\n",
        "0\n",
        "1\n",
        "0\n",
        "1\n",
        "1\n",
        "\n",
        "\n",
        "output: 5\n",
        "\n",
        "```\n"
      ],
      "metadata": {
        "id": "hKy8W9KmN4dR"
      }
    },
    {
      "cell_type": "markdown",
      "source": [
        "## Method 1:"
      ],
      "metadata": {
        "id": "c4THN876O50N"
      }
    },
    {
      "cell_type": "code",
      "execution_count": 6,
      "metadata": {
        "colab": {
          "base_uri": "https://localhost:8080/"
        },
        "id": "s2vKG2uaAW9y",
        "outputId": "d41ae0f1-91e8-4ab0-9e59-c8fa731cd019"
      },
      "outputs": [
        {
          "output_type": "stream",
          "name": "stdout",
          "text": [
            "5\n",
            "1\n",
            "0\n",
            "1\n",
            "1\n",
            "0\n",
            "2\n"
          ]
        }
      ],
      "source": [
        "n = int(input())\n",
        "sum = 0\n",
        "c = 0\n",
        "for _ in range(n):\n",
        "  a=(int(input()))\n",
        "  if a:\n",
        "    sum += c\n",
        "  else:\n",
        "    c += 1\n",
        "print(sum)\n",
        "\n",
        "\n",
        "\n",
        "\n",
        "\n",
        "\n",
        "\n",
        "\n",
        "\n",
        "\n",
        "\n",
        "\n",
        "\n",
        "\n"
      ]
    }
  ]
}