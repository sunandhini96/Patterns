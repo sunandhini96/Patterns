{
  "nbformat": 4,
  "nbformat_minor": 0,
  "metadata": {
    "colab": {
      "provenance": [],
      "authorship_tag": "ABX9TyM4w8HCeeqC6apM7rZ1XSqJ",
      "include_colab_link": true
    },
    "kernelspec": {
      "name": "python3",
      "display_name": "Python 3"
    },
    "language_info": {
      "name": "python"
    }
  },
  "cells": [
    {
      "cell_type": "markdown",
      "metadata": {
        "id": "view-in-github",
        "colab_type": "text"
      },
      "source": [
        "<a href=\"https://colab.research.google.com/github/sunandhini96/Programming/blob/main/find_common_characters.ipynb\" target=\"_parent\"><img src=\"https://colab.research.google.com/assets/colab-badge.svg\" alt=\"Open In Colab\"/></a>"
      ]
    },
    {
      "cell_type": "code",
      "execution_count": 8,
      "metadata": {
        "colab": {
          "base_uri": "https://localhost:8080/"
        },
        "id": "2mEUSH7ZcPgF",
        "outputId": "426da18f-fdd3-446d-cc00-39186bb03518"
      },
      "outputs": [
        {
          "output_type": "execute_result",
          "data": {
            "text/plain": [
              "['e', 'l', 'l']"
            ]
          },
          "metadata": {},
          "execution_count": 8
        }
      ],
      "source": [
        "from collections import Counter\n",
        "def commonChars(words):\n",
        "    \"\"\"\n",
        "    :type words: List[str]\n",
        "    :rtype: List[str]\n",
        "    \"\"\"\n",
        "    common = Counter(words[0])\n",
        "    for i in range(1,len(words)):\n",
        "        common &= Counter(words[i])\n",
        "    return list(common.elements())\n",
        "\n",
        "words = [\"bella\",\"label\",\"roller\"]\n",
        "commonChars(words)"
      ]
    },
    {
      "cell_type": "code",
      "source": [
        "class Solution(object):\n",
        "    def commonChars(self, words):\n",
        "        l = []\n",
        "        l1 = []\n",
        "        for i in words[0]:\n",
        "            l.append(i)\n",
        "\n",
        "        for i in range(len(l)):\n",
        "            flag = True\n",
        "            x = l[i]\n",
        "            for j in range(1,len(words)):\n",
        "                if x not in words[j]:\n",
        "                    flag = False\n",
        "                    break\n",
        "            if flag :\n",
        "                l1.append(x)\n",
        "                for a in range(1,len(words)):\n",
        "                    words[a] =  words[a].replace(x,\"\",1)\n",
        "        return l1"
      ],
      "metadata": {
        "id": "m3Z6Oybsf8Q3"
      },
      "execution_count": null,
      "outputs": []
    }
  ]
}