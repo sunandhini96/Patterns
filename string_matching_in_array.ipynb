{
  "nbformat": 4,
  "nbformat_minor": 0,
  "metadata": {
    "colab": {
      "provenance": [],
      "authorship_tag": "ABX9TyMwwufcruFEubjlGtCpgX6a",
      "include_colab_link": true
    },
    "kernelspec": {
      "name": "python3",
      "display_name": "Python 3"
    },
    "language_info": {
      "name": "python"
    }
  },
  "cells": [
    {
      "cell_type": "markdown",
      "metadata": {
        "id": "view-in-github",
        "colab_type": "text"
      },
      "source": [
        "<a href=\"https://colab.research.google.com/github/sunandhini96/Programming/blob/main/string_matching_in_array.ipynb\" target=\"_parent\"><img src=\"https://colab.research.google.com/assets/colab-badge.svg\" alt=\"Open In Colab\"/></a>"
      ]
    },
    {
      "cell_type": "markdown",
      "source": [
        "Given an array of string words, return all strings in words that is a substring of another word. You can return the answer in any order.\n",
        "\n",
        "A substring is a contiguous sequence of characters within a string\n",
        "\n",
        "\n",
        " ```\n",
        "\n",
        "Example 1:\n",
        "\n",
        "Input: words = [\"mass\",\"as\",\"hero\",\"superhero\"]\n",
        "Output: [\"as\",\"hero\"]\n",
        "Explanation: \"as\" is substring of \"mass\" and \"hero\" is substring of \"superhero\".\n",
        "[\"hero\",\"as\"] is also a valid answer.\n",
        "Example 2:\n",
        "\n",
        "Input: words = [\"leetcode\",\"et\",\"code\"]\n",
        "Output: [\"et\",\"code\"]\n",
        "Explanation: \"et\", \"code\" are substring of \"leetcode\".\n",
        "Example 3:\n",
        "\n",
        "Input: words = [\"blue\",\"green\",\"bu\"]\n",
        "Output: []\n",
        "Explanation: No string of words is substring of another string.\n",
        "\n",
        "\n",
        "```"
      ],
      "metadata": {
        "id": "4pxc9nqh-m3r"
      }
    },
    {
      "cell_type": "markdown",
      "source": [
        "## Method 1:"
      ],
      "metadata": {
        "id": "9dXbNcofG0Kz"
      }
    },
    {
      "cell_type": "code",
      "execution_count": 11,
      "metadata": {
        "colab": {
          "base_uri": "https://localhost:8080/"
        },
        "id": "98N_jcOD-fhl",
        "outputId": "a7a130b9-4b81-4846-b099-17f96e3e9dea"
      },
      "outputs": [
        {
          "output_type": "execute_result",
          "data": {
            "text/plain": [
              "['as', 'hero']"
            ]
          },
          "metadata": {},
          "execution_count": 11
        }
      ],
      "source": [
        "class Solution(object):\n",
        "    def stringMatching(self, words):\n",
        "        \"\"\"\n",
        "        :type words: List[str]\n",
        "        :rtype: List[str]\n",
        "        \"\"\"\n",
        "        words.sort(key = len)\n",
        "        res = []\n",
        "        for i in range(len(words)-1):\n",
        "            for j in range(i+1,len(words)):\n",
        "                if words[i] in words[j]:\n",
        "                    res.append(words[i])\n",
        "                    break\n",
        "\n",
        "        return res\n",
        "\n",
        "words = [\"mass\",\"as\",\"hero\",\"superhero\"]\n",
        "s = Solution()\n",
        "s.stringMatching(words)"
      ]
    },
    {
      "cell_type": "markdown",
      "source": [
        "## Method 2:"
      ],
      "metadata": {
        "id": "XmPfVTB5GmRc"
      }
    },
    {
      "cell_type": "code",
      "source": [
        "\n",
        "\n",
        "class Solution(object):\n",
        "    def stringMatching(self, words):\n",
        "        \"\"\"\n",
        "        :type words: List[str]\n",
        "        :rtype: List[str]\n",
        "        \"\"\"\n",
        "        res = []\n",
        "        for i,word in enumerate(words):\n",
        "            for j in range(0,len(words)):\n",
        "                if words[j] in words[i] and words[j] not in res and i!=j and (len(words[i]) > len(words[j])):\n",
        "                    res.append(words[j])\n",
        "\n",
        "        return res\n"
      ],
      "metadata": {
        "id": "3D-UZCraGo4j"
      },
      "execution_count": 4,
      "outputs": []
    },
    {
      "cell_type": "code",
      "source": [
        "words = [\"mass\",\"as\",\"hero\",\"superhero\"]\n",
        "s = Solution()\n",
        "s.stringMatching(words)"
      ],
      "metadata": {
        "colab": {
          "base_uri": "https://localhost:8080/"
        },
        "id": "Bzdbgm-yGsZ_",
        "outputId": "c2f25307-8362-4c6c-db35-a3d2270f49c8"
      },
      "execution_count": 5,
      "outputs": [
        {
          "output_type": "execute_result",
          "data": {
            "text/plain": [
              "['as', 'hero']"
            ]
          },
          "metadata": {},
          "execution_count": 5
        }
      ]
    }
  ]
}