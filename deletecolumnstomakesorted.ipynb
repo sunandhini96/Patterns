{
  "nbformat": 4,
  "nbformat_minor": 0,
  "metadata": {
    "colab": {
      "provenance": [],
      "authorship_tag": "ABX9TyM5J/PQEWIBhnQ+0fJRkimL",
      "include_colab_link": true
    },
    "kernelspec": {
      "name": "python3",
      "display_name": "Python 3"
    },
    "language_info": {
      "name": "python"
    }
  },
  "cells": [
    {
      "cell_type": "markdown",
      "metadata": {
        "id": "view-in-github",
        "colab_type": "text"
      },
      "source": [
        "<a href=\"https://colab.research.google.com/github/sunandhini96/Programming/blob/main/deletecolumnstomakesorted.ipynb\" target=\"_parent\"><img src=\"https://colab.research.google.com/assets/colab-badge.svg\" alt=\"Open In Colab\"/></a>"
      ]
    },
    {
      "cell_type": "markdown",
      "source": [
        "# Problem Statement\n",
        "\n",
        "You are given an array of n strings strs, all of the same length.\n",
        "\n",
        "The strings can be arranged such that there is one on each line, making a grid.\n",
        "\n",
        "For example, strs = [\"abc\", \"bce\", \"cae\"] can be arranged as follows:\n",
        "abc\n",
        "bce\n",
        "cae\n",
        "You want to delete the columns that are not sorted lexicographically. In the above example (0-indexed), columns 0 ('a', 'b', 'c') and 2 ('c', 'e', 'e') are sorted, while column 1 ('b', 'c', 'a') is not, so you would delete column 1.\n",
        "\n",
        "Return the number of columns that you will delete.\n",
        "\n",
        "\n",
        "\n",
        "Example 1:\n",
        "\n",
        "Input: strs = [\"cba\",\"daf\",\"ghi\"]\n",
        "Output: 1\n",
        "Explanation: The grid looks as follows:\n",
        "  cba\n",
        "  daf\n",
        "  ghi\n",
        "Columns 0 and 2 are sorted, but column 1 is not, so you only need to delete 1 column."
      ],
      "metadata": {
        "id": "O3Sn6Uoip0PZ"
      }
    },
    {
      "cell_type": "code",
      "execution_count": 6,
      "metadata": {
        "colab": {
          "base_uri": "https://localhost:8080/"
        },
        "id": "4dKlomiQgJJN",
        "outputId": "af25890a-d3af-4925-bebf-a2bed92ae637"
      },
      "outputs": [
        {
          "output_type": "execute_result",
          "data": {
            "text/plain": [
              "1"
            ]
          },
          "metadata": {},
          "execution_count": 6
        }
      ],
      "source": [
        "strs = [\"cba\",\"daf\",\"ghi\"]\n",
        "\n",
        "class Solution(object):\n",
        "    def minDeletionSize(self, strs):\n",
        "        \"\"\"\n",
        "        :type strs: List[str]\n",
        "        :rtype: int\n",
        "        \"\"\"\n",
        "        cnt = 0\n",
        "        for i in range(len(strs[0])):\n",
        "            prev_ch = strs[0][i]\n",
        "            for j in range(1,len(strs)):\n",
        "                if strs[j][i] < prev_ch:\n",
        "                    cnt+=1\n",
        "                    break\n",
        "                prev_ch = strs[j][i]\n",
        "        return cnt\n",
        "s= Solution()\n",
        "s.minDeletionSize(strs)"
      ]
    },
    {
      "cell_type": "code",
      "source": [],
      "metadata": {
        "id": "OgqYmmh2gcxy"
      },
      "execution_count": null,
      "outputs": []
    }
  ]
}