{
  "nbformat": 4,
  "nbformat_minor": 0,
  "metadata": {
    "colab": {
      "provenance": [],
      "authorship_tag": "ABX9TyPr+49eCeaDUZkygvRaXzq6",
      "include_colab_link": true
    },
    "kernelspec": {
      "name": "python3",
      "display_name": "Python 3"
    },
    "language_info": {
      "name": "python"
    }
  },
  "cells": [
    {
      "cell_type": "markdown",
      "metadata": {
        "id": "view-in-github",
        "colab_type": "text"
      },
      "source": [
        "<a href=\"https://colab.research.google.com/github/sunandhini96/Programming/blob/main/toggle_given_range.ipynb\" target=\"_parent\"><img src=\"https://colab.research.google.com/assets/colab-badge.svg\" alt=\"Open In Colab\"/></a>"
      ]
    },
    {
      "cell_type": "markdown",
      "source": [
        "## Problem Statement:\n",
        "toggle the bits in given range - from left to right\n",
        "\n",
        "given 50\n",
        "\n",
        "\n",
        "```\n",
        "input : 50\n",
        "r : right most value\n",
        "l : left most value\n",
        "binary of 50 : 110010\n",
        "first step: first left shift r times - 1\n",
        "second step: second left shift l-1 times -1\n",
        "res = x or operation on first and second steps\n",
        "x or operation of res and given number\n",
        "\n",
        "output: 44\n",
        "\n",
        "```\n"
      ],
      "metadata": {
        "id": "hKy8W9KmN4dR"
      }
    },
    {
      "cell_type": "markdown",
      "source": [
        "## Method 1:"
      ],
      "metadata": {
        "id": "c4THN876O50N"
      }
    },
    {
      "cell_type": "code",
      "execution_count": 1,
      "metadata": {
        "colab": {
          "base_uri": "https://localhost:8080/"
        },
        "id": "s2vKG2uaAW9y",
        "outputId": "83890585-9ff7-46e8-fc66-5a985beae8bd"
      },
      "outputs": [
        {
          "output_type": "stream",
          "name": "stdout",
          "text": [
            "50\n",
            "answer :  44\n"
          ]
        }
      ],
      "source": [
        "number = int(input())\n",
        "r = 5\n",
        "l = 2\n",
        "k1 = (1 << r) - 1\n",
        "k2 = (1 << (l-1))-1\n",
        "k = (k1 ^ k2)\n",
        "ans = k ^ number\n",
        "print(\"answer : \",ans)\n",
        "\n",
        "\n",
        "\n",
        "\n",
        "\n",
        "\n",
        "\n",
        "\n",
        "\n",
        "\n",
        "\n",
        "\n",
        "\n",
        "\n"
      ]
    },
    {
      "cell_type": "markdown",
      "source": [
        "## Toggle after most significant bit including msb"
      ],
      "metadata": {
        "id": "EHmaK-NZ6XJX"
      }
    },
    {
      "cell_type": "code",
      "source": [
        "import math\n",
        "n = int(input())\n",
        "number_of_bits = int(math.log2(n))+1 # getting number of bits for given input\n",
        "k = (1<<number_of_bits)-1 # by subtracting -1 we are getting 1's number of bits times\n",
        "\n",
        "print(n^k) # by x - or operation toggle bits"
      ],
      "metadata": {
        "colab": {
          "base_uri": "https://localhost:8080/"
        },
        "id": "luRODAWcRf2K",
        "outputId": "a209893d-41e1-45d4-bda0-601e08f61876"
      },
      "execution_count": 2,
      "outputs": [
        {
          "output_type": "stream",
          "name": "stdout",
          "text": [
            "10\n",
            "5\n"
          ]
        }
      ]
    }
  ]
}